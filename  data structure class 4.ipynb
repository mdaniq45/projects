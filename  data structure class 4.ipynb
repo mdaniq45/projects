{
 "cells": [
  {
   "cell_type": "markdown",
   "id": "9d380385-c3ef-4f9d-8849-606d01f5e994",
   "metadata": {},
   "source": [
    "# python Data structures"
   ]
  },
  {
   "cell_type": "markdown",
   "id": "8d41d538-4734-4ba4-8c84-51236c3da259",
   "metadata": {},
   "source": [
    "# list"
   ]
  },
  {
   "cell_type": "markdown",
   "id": "59b43ff6-1d80-467d-8f94-634fa0f785a7",
   "metadata": {},
   "source": [
    "# append ,extend ,insert , remove,pop, clear, index, count,sort,reverse, copy"
   ]
  },
  {
   "cell_type": "code",
   "execution_count": 159,
   "id": "d785657c-7d7d-4e99-8be9-e8b019ce173d",
   "metadata": {},
   "outputs": [
    {
     "name": "stdout",
     "output_type": "stream",
     "text": [
      "Help on class list in module builtins:\n",
      "\n",
      "class list(object)\n",
      " |  list(iterable=(), /)\n",
      " |  \n",
      " |  Built-in mutable sequence.\n",
      " |  \n",
      " |  If no argument is given, the constructor creates a new empty list.\n",
      " |  The argument must be an iterable if specified.\n",
      " |  \n",
      " |  Methods defined here:\n",
      " |  \n",
      " |  __add__(self, value, /)\n",
      " |      Return self+value.\n",
      " |  \n",
      " |  __contains__(self, key, /)\n",
      " |      Return key in self.\n",
      " |  \n",
      " |  __delitem__(self, key, /)\n",
      " |      Delete self[key].\n",
      " |  \n",
      " |  __eq__(self, value, /)\n",
      " |      Return self==value.\n",
      " |  \n",
      " |  __ge__(self, value, /)\n",
      " |      Return self>=value.\n",
      " |  \n",
      " |  __getattribute__(self, name, /)\n",
      " |      Return getattr(self, name).\n",
      " |  \n",
      " |  __getitem__(...)\n",
      " |      x.__getitem__(y) <==> x[y]\n",
      " |  \n",
      " |  __gt__(self, value, /)\n",
      " |      Return self>value.\n",
      " |  \n",
      " |  __iadd__(self, value, /)\n",
      " |      Implement self+=value.\n",
      " |  \n",
      " |  __imul__(self, value, /)\n",
      " |      Implement self*=value.\n",
      " |  \n",
      " |  __init__(self, /, *args, **kwargs)\n",
      " |      Initialize self.  See help(type(self)) for accurate signature.\n",
      " |  \n",
      " |  __iter__(self, /)\n",
      " |      Implement iter(self).\n",
      " |  \n",
      " |  __le__(self, value, /)\n",
      " |      Return self<=value.\n",
      " |  \n",
      " |  __len__(self, /)\n",
      " |      Return len(self).\n",
      " |  \n",
      " |  __lt__(self, value, /)\n",
      " |      Return self<value.\n",
      " |  \n",
      " |  __mul__(self, value, /)\n",
      " |      Return self*value.\n",
      " |  \n",
      " |  __ne__(self, value, /)\n",
      " |      Return self!=value.\n",
      " |  \n",
      " |  __repr__(self, /)\n",
      " |      Return repr(self).\n",
      " |  \n",
      " |  __reversed__(self, /)\n",
      " |      Return a reverse iterator over the list.\n",
      " |  \n",
      " |  __rmul__(self, value, /)\n",
      " |      Return value*self.\n",
      " |  \n",
      " |  __setitem__(self, key, value, /)\n",
      " |      Set self[key] to value.\n",
      " |  \n",
      " |  __sizeof__(self, /)\n",
      " |      Return the size of the list in memory, in bytes.\n",
      " |  \n",
      " |  append(self, object, /)\n",
      " |      Append object to the end of the list.\n",
      " |  \n",
      " |  clear(self, /)\n",
      " |      Remove all items from list.\n",
      " |  \n",
      " |  copy(self, /)\n",
      " |      Return a shallow copy of the list.\n",
      " |  \n",
      " |  count(self, value, /)\n",
      " |      Return number of occurrences of value.\n",
      " |  \n",
      " |  extend(self, iterable, /)\n",
      " |      Extend list by appending elements from the iterable.\n",
      " |  \n",
      " |  index(self, value, start=0, stop=9223372036854775807, /)\n",
      " |      Return first index of value.\n",
      " |      \n",
      " |      Raises ValueError if the value is not present.\n",
      " |  \n",
      " |  insert(self, index, object, /)\n",
      " |      Insert object before index.\n",
      " |  \n",
      " |  pop(self, index=-1, /)\n",
      " |      Remove and return item at index (default last).\n",
      " |      \n",
      " |      Raises IndexError if list is empty or index is out of range.\n",
      " |  \n",
      " |  remove(self, value, /)\n",
      " |      Remove first occurrence of value.\n",
      " |      \n",
      " |      Raises ValueError if the value is not present.\n",
      " |  \n",
      " |  reverse(self, /)\n",
      " |      Reverse *IN PLACE*.\n",
      " |  \n",
      " |  sort(self, /, *, key=None, reverse=False)\n",
      " |      Sort the list in ascending order and return None.\n",
      " |      \n",
      " |      The sort is in-place (i.e. the list itself is modified) and stable (i.e. the\n",
      " |      order of two equal elements is maintained).\n",
      " |      \n",
      " |      If a key function is given, apply it once to each list item and sort them,\n",
      " |      ascending or descending, according to their function values.\n",
      " |      \n",
      " |      The reverse flag can be set to sort in descending order.\n",
      " |  \n",
      " |  ----------------------------------------------------------------------\n",
      " |  Class methods defined here:\n",
      " |  \n",
      " |  __class_getitem__(...) from builtins.type\n",
      " |      See PEP 585\n",
      " |  \n",
      " |  ----------------------------------------------------------------------\n",
      " |  Static methods defined here:\n",
      " |  \n",
      " |  __new__(*args, **kwargs) from builtins.type\n",
      " |      Create and return a new object.  See help(type) for accurate signature.\n",
      " |  \n",
      " |  ----------------------------------------------------------------------\n",
      " |  Data and other attributes defined here:\n",
      " |  \n",
      " |  __hash__ = None\n",
      "\n"
     ]
    }
   ],
   "source": [
    "help(list)"
   ]
  },
  {
   "cell_type": "code",
   "execution_count": 142,
   "id": "7a17da76-7031-4a4d-ae85-fc61b759a167",
   "metadata": {},
   "outputs": [
    {
     "data": {
      "text/plain": [
       "\u001b[1;31mInit signature:\u001b[0m \u001b[0mlist\u001b[0m\u001b[1;33m(\u001b[0m\u001b[0miterable\u001b[0m\u001b[1;33m=\u001b[0m\u001b[1;33m(\u001b[0m\u001b[1;33m)\u001b[0m\u001b[1;33m,\u001b[0m \u001b[1;33m/\u001b[0m\u001b[1;33m)\u001b[0m\u001b[1;33m\u001b[0m\u001b[1;33m\u001b[0m\u001b[0m\n",
       "\u001b[1;31mDocstring:\u001b[0m     \n",
       "Built-in mutable sequence.\n",
       "\n",
       "If no argument is given, the constructor creates a new empty list.\n",
       "The argument must be an iterable if specified.\n",
       "\u001b[1;31mType:\u001b[0m           type\n",
       "\u001b[1;31mSubclasses:\u001b[0m     _HashedSeq, StackSummary, _Threads, ConvertingList, DeferredConfigList, _ymd, SList, _ImmutableLineList, FormattedText, NodeList, ..."
      ]
     },
     "metadata": {},
     "output_type": "display_data"
    }
   ],
   "source": [
    "list?"
   ]
  },
  {
   "cell_type": "code",
   "execution_count": 160,
   "id": "fb028f5e-a1c2-4272-aad3-020a680728a0",
   "metadata": {},
   "outputs": [
    {
     "data": {
      "text/plain": [
       "1"
      ]
     },
     "execution_count": 160,
     "metadata": {},
     "output_type": "execute_result"
    }
   ],
   "source": [
    "fruites=['Mango','banana','apple','guavava','papaya','kiwi']\n",
    "\n",
    "fruites.count('apple')\n"
   ]
  },
  {
   "cell_type": "code",
   "execution_count": 5,
   "id": "84edf960-cd13-45a2-bdb1-4341e3b4fc64",
   "metadata": {},
   "outputs": [
    {
     "data": {
      "text/plain": [
       "1"
      ]
     },
     "execution_count": 5,
     "metadata": {},
     "output_type": "execute_result"
    }
   ],
   "source": [
    "fruites.index('banana')"
   ]
  },
  {
   "cell_type": "code",
   "execution_count": 161,
   "id": "6179730c-89c3-4ea0-b5a1-701b768cfcd7",
   "metadata": {},
   "outputs": [
    {
     "data": {
      "text/plain": [
       "['kiwi', 'papaya', 'guavava', 'apple', 'banana', 'Mango']"
      ]
     },
     "execution_count": 161,
     "metadata": {},
     "output_type": "execute_result"
    }
   ],
   "source": [
    "fruites.reverse()\n",
    "fruites"
   ]
  },
  {
   "cell_type": "code",
   "execution_count": 9,
   "id": "4d396682-3694-4263-bc45-c2a0874ac979",
   "metadata": {},
   "outputs": [
    {
     "data": {
      "text/plain": [
       "['Mango', 'banana', 'apple', 'guavava', 'papaya', 'kiwi', 'grapes', 'grapes']"
      ]
     },
     "execution_count": 9,
     "metadata": {},
     "output_type": "execute_result"
    }
   ],
   "source": [
    "fruites.append('grapes')\n",
    "fruites"
   ]
  },
  {
   "cell_type": "code",
   "execution_count": 10,
   "id": "4fe664e2-086b-41f6-821c-d15a5dbe3859",
   "metadata": {},
   "outputs": [
    {
     "data": {
      "text/plain": [
       "['Mango', 'apple', 'banana', 'grapes', 'grapes', 'guavava', 'kiwi', 'papaya']"
      ]
     },
     "execution_count": 10,
     "metadata": {},
     "output_type": "execute_result"
    }
   ],
   "source": [
    "fruites.sort()\n",
    "fruites"
   ]
  },
  {
   "cell_type": "code",
   "execution_count": 11,
   "id": "ed1c836a-3640-4066-aed5-cc8cad9c1b20",
   "metadata": {},
   "outputs": [
    {
     "data": {
      "text/plain": [
       "'papaya'"
      ]
     },
     "execution_count": 11,
     "metadata": {},
     "output_type": "execute_result"
    }
   ],
   "source": [
    "fruites.pop()"
   ]
  },
  {
   "cell_type": "code",
   "execution_count": 121,
   "id": "efda18c3-6e2a-4ddb-b274-b0e10d9035c6",
   "metadata": {},
   "outputs": [
    {
     "data": {
      "text/plain": [
       "['Mango', 'apple', 'banana', 'grapes', 'grapes', 'guavava', 'kiwi']"
      ]
     },
     "execution_count": 121,
     "metadata": {},
     "output_type": "execute_result"
    }
   ],
   "source": [
    "fruites"
   ]
  },
  {
   "cell_type": "code",
   "execution_count": 122,
   "id": "0c1586d4-c796-4daf-82f2-9a66ae01c62b",
   "metadata": {},
   "outputs": [
    {
     "name": "stdout",
     "output_type": "stream",
     "text": [
      "grapes\n"
     ]
    }
   ],
   "source": [
    "print(fruites[-3])"
   ]
  },
  {
   "cell_type": "code",
   "execution_count": 162,
   "id": "65db107a-19d5-4bad-ba71-e6d6bad314a3",
   "metadata": {},
   "outputs": [
    {
     "data": {
      "text/plain": [
       "'banana'"
      ]
     },
     "execution_count": 162,
     "metadata": {},
     "output_type": "execute_result"
    }
   ],
   "source": [
    "fruites[-2]"
   ]
  },
  {
   "cell_type": "markdown",
   "id": "2792cabe-9d4a-4000-86e9-be7c578ab6c6",
   "metadata": {},
   "source": [
    "#  Using Lists as Stacks"
   ]
  },
  {
   "cell_type": "code",
   "execution_count": 143,
   "id": "934bcc71-73a5-45f7-9952-a89f8dd82aa7",
   "metadata": {},
   "outputs": [
    {
     "data": {
      "text/plain": [
       "\u001b[1;31mType:\u001b[0m        list\n",
       "\u001b[1;31mString form:\u001b[0m [3, 5, 7, 8, 1]\n",
       "\u001b[1;31mLength:\u001b[0m      5\n",
       "\u001b[1;31mDocstring:\u001b[0m  \n",
       "Built-in mutable sequence.\n",
       "\n",
       "If no argument is given, the constructor creates a new empty list.\n",
       "The argument must be an iterable if specified."
      ]
     },
     "metadata": {},
     "output_type": "display_data"
    }
   ],
   "source": [
    "stack?"
   ]
  },
  {
   "cell_type": "code",
   "execution_count": 13,
   "id": "a0d64d60-d313-4831-866a-4cd13eab0a87",
   "metadata": {},
   "outputs": [
    {
     "data": {
      "text/plain": [
       "[3, 5, 7, 8, 1, 9, 66]"
      ]
     },
     "execution_count": 13,
     "metadata": {},
     "output_type": "execute_result"
    }
   ],
   "source": [
    "stack=[3,5,7,8,1,9]\n",
    "stack.append(66)\n",
    "stack"
   ]
  },
  {
   "cell_type": "code",
   "execution_count": 14,
   "id": "740cbcea-148a-4fd4-8d7d-774282006b53",
   "metadata": {},
   "outputs": [
    {
     "data": {
      "text/plain": [
       "66"
      ]
     },
     "execution_count": 14,
     "metadata": {},
     "output_type": "execute_result"
    }
   ],
   "source": [
    "stack.pop()"
   ]
  },
  {
   "cell_type": "code",
   "execution_count": 15,
   "id": "ed231f63-19a3-40f1-9beb-872a5e9711a8",
   "metadata": {},
   "outputs": [
    {
     "data": {
      "text/plain": [
       "9"
      ]
     },
     "execution_count": 15,
     "metadata": {},
     "output_type": "execute_result"
    }
   ],
   "source": [
    "stack.pop()"
   ]
  },
  {
   "cell_type": "code",
   "execution_count": 27,
   "id": "143cf63d-0d10-4fcd-8988-049833f3322e",
   "metadata": {},
   "outputs": [
    {
     "data": {
      "text/plain": [
       "7"
      ]
     },
     "execution_count": 27,
     "metadata": {},
     "output_type": "execute_result"
    }
   ],
   "source": [
    "len(fruites)"
   ]
  },
  {
   "cell_type": "code",
   "execution_count": 29,
   "id": "b76bd636-1fc2-4101-b173-134f4ea9110b",
   "metadata": {},
   "outputs": [
    {
     "data": {
      "text/plain": [
       "['Mango', 'apple', 'banana', 'grapes', 'grapes', 'guavava', 'kiwi']"
      ]
     },
     "execution_count": 29,
     "metadata": {},
     "output_type": "execute_result"
    }
   ],
   "source": [
    "bag=fruites.copy()\n",
    "bag"
   ]
  },
  {
   "cell_type": "code",
   "execution_count": 32,
   "id": "90bfb580-8252-4fd8-beaa-e35597491984",
   "metadata": {},
   "outputs": [
    {
     "data": {
      "text/plain": [
       "['Mango', 'apple', 'banana', 'grapes', 'grapes', 'guavava', 'kiwi']"
      ]
     },
     "execution_count": 32,
     "metadata": {},
     "output_type": "execute_result"
    }
   ],
   "source": [
    "bag[:]"
   ]
  },
  {
   "cell_type": "code",
   "execution_count": 163,
   "id": "0f6d0b09-2951-45a3-a85f-5a98dff8fa4b",
   "metadata": {},
   "outputs": [
    {
     "name": "stdout",
     "output_type": "stream",
     "text": [
      "kiwikiwi\n",
      "papayapapaya\n",
      "guavavaguavava\n",
      "appleapple\n",
      "bananabanana\n",
      "MangoMango\n"
     ]
    }
   ],
   "source": [
    "for  bag in fruites:\n",
    "    print(bag*2)"
   ]
  },
  {
   "cell_type": "code",
   "execution_count": null,
   "id": "6f261c77-97a1-4490-bc69-877e50046f1f",
   "metadata": {},
   "outputs": [],
   "source": []
  },
  {
   "cell_type": "markdown",
   "id": "97321424-b8b9-4bfa-9911-d118549e5f46",
   "metadata": {},
   "source": [
    "# Using Lists as Queues"
   ]
  },
  {
   "cell_type": "code",
   "execution_count": 164,
   "id": "aad6c031-a8bd-4af9-88ae-bcb634ede3a2",
   "metadata": {},
   "outputs": [
    {
     "data": {
      "text/plain": [
       "\u001b[1;31mType:\u001b[0m        deque\n",
       "\u001b[1;31mString form:\u001b[0m deque(['zanab', 'zaid', 'ahmed', 'zakriya', 'yosuf'])\n",
       "\u001b[1;31mLength:\u001b[0m      5\n",
       "\u001b[1;31mFile:\u001b[0m        d:\\users\\hi\\anaconda3\\lib\\collections\\__init__.py\n",
       "\u001b[1;31mDocstring:\u001b[0m  \n",
       "deque([iterable[, maxlen]]) --> deque object\n",
       "\n",
       "A list-like sequence optimized for data accesses near its endpoints."
      ]
     },
     "metadata": {},
     "output_type": "display_data"
    }
   ],
   "source": [
    "queue?"
   ]
  },
  {
   "cell_type": "code",
   "execution_count": 165,
   "id": "e1c6cee9-9185-411d-9827-022d2b534302",
   "metadata": {},
   "outputs": [
    {
     "data": {
      "text/plain": [
       "deque(['zanab', 'zaid', 'ahmed', 'zakriya', 'yosuf'])"
      ]
     },
     "execution_count": 165,
     "metadata": {},
     "output_type": "execute_result"
    }
   ],
   "source": [
    "from collections import deque\n",
    "queue=deque(['ali','zanab','zaid','ahmed'])\n",
    "queue.append('zakriya')\n",
    "queue.append('yosuf')\n",
    "queue\n",
    "queue.popleft()\n",
    "queue"
   ]
  },
  {
   "cell_type": "markdown",
   "id": "7ea94776-86ea-48b5-8e29-c16baf8284a7",
   "metadata": {},
   "source": [
    "\n",
    "# sets"
   ]
  },
  {
   "cell_type": "code",
   "execution_count": 146,
   "id": "6315c4e9-a266-439a-8f6c-92641ec7e870",
   "metadata": {},
   "outputs": [
    {
     "data": {
      "text/plain": [
       "\u001b[1;31mType:\u001b[0m        tuple\n",
       "\u001b[1;31mString form:\u001b[0m ()\n",
       "\u001b[1;31mLength:\u001b[0m      0\n",
       "\u001b[1;31mDocstring:\u001b[0m  \n",
       "Built-in immutable sequence.\n",
       "\n",
       "If no argument is given, the constructor returns an empty tuple.\n",
       "If iterable is specified the tuple is initialized from iterable's items.\n",
       "\n",
       "If the argument is a tuple, the return value is the same object."
      ]
     },
     "metadata": {},
     "output_type": "display_data"
    }
   ],
   "source": [
    "set?"
   ]
  },
  {
   "cell_type": "code",
   "execution_count": 54,
   "id": "bab6f636-6dd7-4425-b3c4-586d5ab72eb3",
   "metadata": {},
   "outputs": [
    {
     "data": {
      "text/plain": [
       "()"
      ]
     },
     "execution_count": 54,
     "metadata": {},
     "output_type": "execute_result"
    }
   ],
   "source": [
    "set=()\n",
    "set"
   ]
  },
  {
   "cell_type": "code",
   "execution_count": 59,
   "id": "305bb013-379e-473c-b01b-6264acb2cb5d",
   "metadata": {},
   "outputs": [
    {
     "data": {
      "text/plain": [
       "\u001b[1;31mType:\u001b[0m        tuple\n",
       "\u001b[1;31mString form:\u001b[0m ()\n",
       "\u001b[1;31mLength:\u001b[0m      0\n",
       "\u001b[1;31mDocstring:\u001b[0m  \n",
       "Built-in immutable sequence.\n",
       "\n",
       "If no argument is given, the constructor returns an empty tuple.\n",
       "If iterable is specified the tuple is initialized from iterable's items.\n",
       "\n",
       "If the argument is a tuple, the return value is the same object."
      ]
     },
     "metadata": {},
     "output_type": "display_data"
    }
   ],
   "source": [
    "set?"
   ]
  },
  {
   "cell_type": "code",
   "execution_count": 63,
   "id": "ad37da5b-6940-4cfb-b7f1-98bd5ded8ad0",
   "metadata": {},
   "outputs": [
    {
     "data": {
      "text/plain": [
       "0"
      ]
     },
     "execution_count": 63,
     "metadata": {},
     "output_type": "execute_result"
    }
   ],
   "source": [
    "len(set)"
   ]
  },
  {
   "cell_type": "code",
   "execution_count": 22,
   "id": "69118701-f920-4bde-8ffd-7d5b03f643ea",
   "metadata": {},
   "outputs": [
    {
     "name": "stdout",
     "output_type": "stream",
     "text": [
      "{3, 5, 7, 9, 11, 13, 15, 17}\n"
     ]
    }
   ],
   "source": [
    "num={3,5,7,9,11,13,15,17}\n",
    "print(num)"
   ]
  },
  {
   "cell_type": "code",
   "execution_count": 23,
   "id": "267ab7ee-f80c-4d1a-880a-6ffb88614d62",
   "metadata": {},
   "outputs": [
    {
     "data": {
      "text/plain": [
       "False"
      ]
     },
     "execution_count": 23,
     "metadata": {},
     "output_type": "execute_result"
    }
   ],
   "source": [
    "2 in num"
   ]
  },
  {
   "cell_type": "code",
   "execution_count": 24,
   "id": "223c20b5-ad1a-4757-bd10-3251198c0b4c",
   "metadata": {},
   "outputs": [
    {
     "data": {
      "text/plain": [
       "True"
      ]
     },
     "execution_count": 24,
     "metadata": {},
     "output_type": "execute_result"
    }
   ],
   "source": [
    "3 in num"
   ]
  },
  {
   "cell_type": "code",
   "execution_count": 26,
   "id": "4bd878c1-cf18-48b5-b111-ed329f7b92d3",
   "metadata": {},
   "outputs": [
    {
     "data": {
      "text/plain": [
       "{'a', 'd', 'h', 'i', 'm'}"
      ]
     },
     "execution_count": 26,
     "metadata": {},
     "output_type": "execute_result"
    }
   ],
   "source": [
    "a=set('mihammad')\n",
    "a"
   ]
  },
  {
   "cell_type": "code",
   "execution_count": 65,
   "id": "20986d05-2e4f-441f-abd4-bbfc7c9c2c5d",
   "metadata": {},
   "outputs": [
    {
     "data": {
      "text/plain": [
       "8"
      ]
     },
     "execution_count": 65,
     "metadata": {},
     "output_type": "execute_result"
    }
   ],
   "source": [
    "len(num)"
   ]
  },
  {
   "cell_type": "code",
   "execution_count": 66,
   "id": "0870f78e-fa4d-40cf-9a46-fc2d7da419e3",
   "metadata": {},
   "outputs": [],
   "source": [
    "num.add(True)\n"
   ]
  },
  {
   "cell_type": "markdown",
   "id": "46127ed3-4897-4e45-9fb8-d87ce44de481",
   "metadata": {},
   "source": [
    "# pop"
   ]
  },
  {
   "cell_type": "code",
   "execution_count": 166,
   "id": "aaed99f8-2b21-4939-879b-9fbdf2c68fe7",
   "metadata": {},
   "outputs": [
    {
     "data": {
      "text/plain": [
       "3"
      ]
     },
     "execution_count": 166,
     "metadata": {},
     "output_type": "execute_result"
    }
   ],
   "source": [
    "num.pop()"
   ]
  },
  {
   "cell_type": "code",
   "execution_count": 73,
   "id": "c4734b4d-f051-4758-96a3-023d7a2bae26",
   "metadata": {},
   "outputs": [],
   "source": [
    "num.remove(11)\n"
   ]
  },
  {
   "cell_type": "markdown",
   "id": "6cb4c97b-24b3-4ca8-ad9c-098a85f4a2b6",
   "metadata": {},
   "source": [
    "# set operations"
   ]
  },
  {
   "cell_type": "code",
   "execution_count": 167,
   "id": "3fcc34b3-f097-4882-9645-8a6bc0e6ea52",
   "metadata": {},
   "outputs": [],
   "source": [
    "a={1,2,3,4,5}\n",
    "b={3,4,5,6,7}\n",
    "c={5,6,7,8,9}\n"
   ]
  },
  {
   "cell_type": "code",
   "execution_count": 75,
   "id": "66387921-8e27-46b9-8eaf-7a2f82cc8f83",
   "metadata": {},
   "outputs": [
    {
     "data": {
      "text/plain": [
       "{3, 4, 5}"
      ]
     },
     "execution_count": 75,
     "metadata": {},
     "output_type": "execute_result"
    }
   ],
   "source": [
    "a&b"
   ]
  },
  {
   "cell_type": "code",
   "execution_count": 76,
   "id": "d2f7b90d-d543-471c-b16b-c2db4dc8a86a",
   "metadata": {},
   "outputs": [
    {
     "data": {
      "text/plain": [
       "{1, 2, 3, 4, 5, 6, 7}"
      ]
     },
     "execution_count": 76,
     "metadata": {},
     "output_type": "execute_result"
    }
   ],
   "source": [
    "a.union(b)"
   ]
  },
  {
   "cell_type": "code",
   "execution_count": 168,
   "id": "b7fa861f-9b39-4f9b-b312-f58cecafb3b3",
   "metadata": {},
   "outputs": [
    {
     "data": {
      "text/plain": [
       "{3, 4, 5}"
      ]
     },
     "execution_count": 168,
     "metadata": {},
     "output_type": "execute_result"
    }
   ],
   "source": [
    "a.intersection(b)"
   ]
  },
  {
   "cell_type": "code",
   "execution_count": 78,
   "id": "b28adc83-0bb5-45c7-bad6-57ad12348831",
   "metadata": {},
   "outputs": [
    {
     "data": {
      "text/plain": [
       "{5}"
      ]
     },
     "execution_count": 78,
     "metadata": {},
     "output_type": "execute_result"
    }
   ],
   "source": [
    "a.intersection(c)"
   ]
  },
  {
   "cell_type": "code",
   "execution_count": 169,
   "id": "5eab5f2d-5b99-4c19-932c-8d1134bb22bd",
   "metadata": {},
   "outputs": [
    {
     "data": {
      "text/plain": [
       "{1, 2, 3, 4, 5, 6, 7, 8, 9}"
      ]
     },
     "execution_count": 169,
     "metadata": {},
     "output_type": "execute_result"
    }
   ],
   "source": [
    "a|b|c"
   ]
  },
  {
   "cell_type": "code",
   "execution_count": 80,
   "id": "51b81028-73f9-4c98-9215-713473b55c39",
   "metadata": {},
   "outputs": [
    {
     "data": {
      "text/plain": [
       "{1, 2, 3, 4, 5, 6, 7, 8, 9}"
      ]
     },
     "execution_count": 80,
     "metadata": {},
     "output_type": "execute_result"
    }
   ],
   "source": [
    "a.union(b).union(c)"
   ]
  },
  {
   "cell_type": "code",
   "execution_count": 81,
   "id": "498e66f5-db73-4ac2-ae9c-1ac20a45556d",
   "metadata": {},
   "outputs": [
    {
     "data": {
      "text/plain": [
       "{1, 2}"
      ]
     },
     "execution_count": 81,
     "metadata": {},
     "output_type": "execute_result"
    }
   ],
   "source": [
    "a-b"
   ]
  },
  {
   "cell_type": "code",
   "execution_count": 82,
   "id": "32cf7bfe-ebc0-417d-becc-9e3b996d9900",
   "metadata": {},
   "outputs": [
    {
     "data": {
      "text/plain": [
       "{1, 2, 3, 4}"
      ]
     },
     "execution_count": 82,
     "metadata": {},
     "output_type": "execute_result"
    }
   ],
   "source": [
    "a-c"
   ]
  },
  {
   "cell_type": "code",
   "execution_count": 170,
   "id": "43b40d72-5993-461d-80bc-acc261c15a90",
   "metadata": {},
   "outputs": [
    {
     "data": {
      "text/plain": [
       "1"
      ]
     },
     "execution_count": 170,
     "metadata": {},
     "output_type": "execute_result"
    }
   ],
   "source": [
    "min(a)"
   ]
  },
  {
   "cell_type": "markdown",
   "id": "a7508fa4-fd12-4730-9bfa-baf3ac9e42c8",
   "metadata": {},
   "source": [
    "# mathematical operations"
   ]
  },
  {
   "cell_type": "code",
   "execution_count": 171,
   "id": "0c05394e-d366-41a6-afc4-89297c377276",
   "metadata": {},
   "outputs": [
    {
     "data": {
      "text/plain": [
       "5"
      ]
     },
     "execution_count": 171,
     "metadata": {},
     "output_type": "execute_result"
    }
   ],
   "source": [
    "max(a)"
   ]
  },
  {
   "cell_type": "code",
   "execution_count": 86,
   "id": "8b70eb53-b6fa-4b42-9e75-54b078522da1",
   "metadata": {},
   "outputs": [
    {
     "data": {
      "text/plain": [
       "15"
      ]
     },
     "execution_count": 86,
     "metadata": {},
     "output_type": "execute_result"
    }
   ],
   "source": [
    "sum(a)"
   ]
  },
  {
   "cell_type": "code",
   "execution_count": 87,
   "id": "e1191d7e-374e-4dc7-b054-3058c6ff7e49",
   "metadata": {},
   "outputs": [
    {
     "data": {
      "text/plain": [
       "3"
      ]
     },
     "execution_count": 87,
     "metadata": {},
     "output_type": "execute_result"
    }
   ],
   "source": [
    "min(b)"
   ]
  },
  {
   "cell_type": "code",
   "execution_count": 88,
   "id": "345e977a-1a85-42ab-8f4c-bc60916b0061",
   "metadata": {},
   "outputs": [
    {
     "data": {
      "text/plain": [
       "25"
      ]
     },
     "execution_count": 88,
     "metadata": {},
     "output_type": "execute_result"
    }
   ],
   "source": [
    "sum(b)"
   ]
  },
  {
   "cell_type": "code",
   "execution_count": 89,
   "id": "f723cac5-187a-4681-99d5-f6bcd3e8c29a",
   "metadata": {},
   "outputs": [
    {
     "data": {
      "text/plain": [
       "7"
      ]
     },
     "execution_count": 89,
     "metadata": {},
     "output_type": "execute_result"
    }
   ],
   "source": [
    "max(b)"
   ]
  },
  {
   "cell_type": "code",
   "execution_count": 172,
   "id": "e01b45b8-7231-477b-b5f2-bc06bdf04c14",
   "metadata": {},
   "outputs": [
    {
     "data": {
      "text/plain": [
       "5"
      ]
     },
     "execution_count": 172,
     "metadata": {},
     "output_type": "execute_result"
    }
   ],
   "source": [
    "min(c)"
   ]
  },
  {
   "cell_type": "code",
   "execution_count": 91,
   "id": "ce4058aa-e7bd-4910-96cd-19ced3c36adc",
   "metadata": {},
   "outputs": [
    {
     "data": {
      "text/plain": [
       "9"
      ]
     },
     "execution_count": 91,
     "metadata": {},
     "output_type": "execute_result"
    }
   ],
   "source": [
    "max(c)"
   ]
  },
  {
   "cell_type": "code",
   "execution_count": 92,
   "id": "cf45e0d8-88e1-4774-892e-655349181f83",
   "metadata": {},
   "outputs": [
    {
     "data": {
      "text/plain": [
       "35"
      ]
     },
     "execution_count": 92,
     "metadata": {},
     "output_type": "execute_result"
    }
   ],
   "source": [
    "sum(c)"
   ]
  },
  {
   "cell_type": "markdown",
   "id": "bc49b094-de06-4bf5-9487-5f754ade57a1",
   "metadata": {},
   "source": [
    "# Dictionaries"
   ]
  },
  {
   "cell_type": "code",
   "execution_count": 173,
   "id": "ee2caa97-eee4-4791-956e-bdff87d9ad3d",
   "metadata": {},
   "outputs": [],
   "source": [
    "dic={}"
   ]
  },
  {
   "cell_type": "code",
   "execution_count": 94,
   "id": "d75b4e43-909e-4d3d-b23a-b3c7168bdc18",
   "metadata": {},
   "outputs": [
    {
     "data": {
      "text/plain": [
       "{'zainab': 6.3, 'zaid': 3.1, 'ahmed': 10.4}"
      ]
     },
     "execution_count": 94,
     "metadata": {},
     "output_type": "execute_result"
    }
   ],
   "source": [
    "dic={'zainab':6.3,'zaid':3.10,'ahmed':10.4}\n",
    "dic"
   ]
  },
  {
   "cell_type": "code",
   "execution_count": 179,
   "id": "9db3c592-3a4c-4260-9538-8e1a50ff5e50",
   "metadata": {},
   "outputs": [
    {
     "name": "stdout",
     "output_type": "stream",
     "text": [
      "Object `dictionary` not found.\n"
     ]
    }
   ],
   "source": [
    "dictionary?"
   ]
  },
  {
   "cell_type": "code",
   "execution_count": 180,
   "id": "0cd36b5b-a079-41fa-8372-77774208697b",
   "metadata": {},
   "outputs": [
    {
     "data": {
      "text/plain": [
       "dict"
      ]
     },
     "execution_count": 180,
     "metadata": {},
     "output_type": "execute_result"
    }
   ],
   "source": [
    "type(dic)"
   ]
  },
  {
   "cell_type": "code",
   "execution_count": 181,
   "id": "8f001f40-64c7-4a8a-8e66-a3819f121c5c",
   "metadata": {},
   "outputs": [],
   "source": [
    "dic={}"
   ]
  },
  {
   "cell_type": "markdown",
   "id": "afe2e323-9a42-4d5e-bd29-11f2329f2a31",
   "metadata": {},
   "source": [
    "# operations "
   ]
  },
  {
   "cell_type": "code",
   "execution_count": 182,
   "id": "c60ef5ab-c445-4cdc-8e68-24ae606cc254",
   "metadata": {},
   "outputs": [
    {
     "ename": "KeyError",
     "evalue": "'zaid'",
     "output_type": "error",
     "traceback": [
      "\u001b[1;31m---------------------------------------------------------------------------\u001b[0m",
      "\u001b[1;31mKeyError\u001b[0m                                  Traceback (most recent call last)",
      "Cell \u001b[1;32mIn[182], line 1\u001b[0m\n\u001b[1;32m----> 1\u001b[0m dic\u001b[38;5;241m.\u001b[39mpop(\u001b[38;5;124m'\u001b[39m\u001b[38;5;124mzaid\u001b[39m\u001b[38;5;124m'\u001b[39m)\n",
      "\u001b[1;31mKeyError\u001b[0m: 'zaid'"
     ]
    }
   ],
   "source": [
    "dic.pop('zaid')"
   ]
  },
  {
   "cell_type": "code",
   "execution_count": 183,
   "id": "3b429f80-208d-475a-b72b-c6a06686783a",
   "metadata": {},
   "outputs": [
    {
     "ename": "KeyError",
     "evalue": "'popitem(): dictionary is empty'",
     "output_type": "error",
     "traceback": [
      "\u001b[1;31m---------------------------------------------------------------------------\u001b[0m",
      "\u001b[1;31mKeyError\u001b[0m                                  Traceback (most recent call last)",
      "Cell \u001b[1;32mIn[183], line 1\u001b[0m\n\u001b[1;32m----> 1\u001b[0m dic\u001b[38;5;241m.\u001b[39mpopitem()\n",
      "\u001b[1;31mKeyError\u001b[0m: 'popitem(): dictionary is empty'"
     ]
    }
   ],
   "source": [
    "dic.popitem()"
   ]
  },
  {
   "cell_type": "code",
   "execution_count": 107,
   "id": "bb87ca7a-5f49-415f-98e2-ee44cf1605ae",
   "metadata": {},
   "outputs": [],
   "source": [
    "dic1=dic.copy()"
   ]
  },
  {
   "cell_type": "code",
   "execution_count": 108,
   "id": "34275994-41ac-4e23-80d6-183efc2b148e",
   "metadata": {},
   "outputs": [
    {
     "data": {
      "text/plain": [
       "{'zainab': 6.3}"
      ]
     },
     "execution_count": 108,
     "metadata": {},
     "output_type": "execute_result"
    }
   ],
   "source": [
    "dic1"
   ]
  },
  {
   "cell_type": "code",
   "execution_count": 114,
   "id": "3e9caf7b-ce12-4d9c-8947-043ccd73c2fd",
   "metadata": {},
   "outputs": [],
   "source": [
    "dic1['aniq']=23\n",
    "dic1['aqiq']=21"
   ]
  },
  {
   "cell_type": "code",
   "execution_count": 116,
   "id": "e4e9c48e-5326-4087-bb63-bbfc689c63fb",
   "metadata": {},
   "outputs": [
    {
     "data": {
      "text/plain": [
       "{'zainab': 6.3, 'aniq': 23, 'aqiq': 21}"
      ]
     },
     "execution_count": 116,
     "metadata": {},
     "output_type": "execute_result"
    }
   ],
   "source": [
    "dic1"
   ]
  },
  {
   "cell_type": "code",
   "execution_count": 117,
   "id": "a4099ed5-57ed-4992-9658-14e1f75bff9e",
   "metadata": {},
   "outputs": [
    {
     "data": {
      "text/plain": [
       "3"
      ]
     },
     "execution_count": 117,
     "metadata": {},
     "output_type": "execute_result"
    }
   ],
   "source": [
    "len(dic1)"
   ]
  },
  {
   "cell_type": "markdown",
   "id": "e966c5a5-bfab-4a55-a0f4-171c86b7e036",
   "metadata": {},
   "source": [
    "# Tuple"
   ]
  },
  {
   "cell_type": "markdown",
   "id": "6b297827-567c-4c3b-8d42-19f167510dfa",
   "metadata": {},
   "source": [
    "## Note: Tuples can also be created with a single element, but it is a bit tricky. Having one element in the parentheses is not sufficient, \n",
    "## there must be a trailing ‘comma’ to make it a tuple."
   ]
  },
  {
   "cell_type": "code",
   "execution_count": 124,
   "id": "4065c010-6168-4dd1-8663-fac564635317",
   "metadata": {},
   "outputs": [
    {
     "data": {
      "text/plain": [
       "('md', 'aniq', 'zama')"
      ]
     },
     "execution_count": 124,
     "metadata": {},
     "output_type": "execute_result"
    }
   ],
   "source": [
    "tup=('md','aniq','zama')\n",
    "tup"
   ]
  },
  {
   "cell_type": "code",
   "execution_count": 125,
   "id": "a97679ac-e1c6-4bfb-bd14-d80f556b45e9",
   "metadata": {},
   "outputs": [
    {
     "data": {
      "text/plain": [
       "'aniq'"
      ]
     },
     "execution_count": 125,
     "metadata": {},
     "output_type": "execute_result"
    }
   ],
   "source": [
    "tup[1]"
   ]
  },
  {
   "cell_type": "code",
   "execution_count": 126,
   "id": "95a21335-430e-4b80-97b5-4636f1717ee3",
   "metadata": {},
   "outputs": [
    {
     "data": {
      "text/plain": [
       "'md'"
      ]
     },
     "execution_count": 126,
     "metadata": {},
     "output_type": "execute_result"
    }
   ],
   "source": [
    "tup[0]"
   ]
  },
  {
   "cell_type": "code",
   "execution_count": 127,
   "id": "d7acb54b-f598-48b6-821c-868a17c1c114",
   "metadata": {},
   "outputs": [
    {
     "data": {
      "text/plain": [
       "'zama'"
      ]
     },
     "execution_count": 127,
     "metadata": {},
     "output_type": "execute_result"
    }
   ],
   "source": [
    "tup[-1]"
   ]
  },
  {
   "cell_type": "code",
   "execution_count": 131,
   "id": "3d75e2f4-8032-4379-9252-4050b088fb4e",
   "metadata": {},
   "outputs": [
    {
     "data": {
      "text/plain": [
       "(1, 2, 3, 4, 5, 6)"
      ]
     },
     "execution_count": 131,
     "metadata": {},
     "output_type": "execute_result"
    }
   ],
   "source": [
    "tup1=(1,2,3,4,5,6)\n",
    "tup2=(4,6,8,9.9)\n",
    "tup1\n",
    "\n"
   ]
  },
  {
   "cell_type": "code",
   "execution_count": 130,
   "id": "796763b3-de71-447d-a744-7e00c760fe42",
   "metadata": {},
   "outputs": [
    {
     "data": {
      "text/plain": [
       "(4, 6, 8, 9.9)"
      ]
     },
     "execution_count": 130,
     "metadata": {},
     "output_type": "execute_result"
    }
   ],
   "source": [
    "tup2"
   ]
  },
  {
   "cell_type": "code",
   "execution_count": 132,
   "id": "b9dbead2-4b44-4fe4-981c-02e92ceb4744",
   "metadata": {},
   "outputs": [
    {
     "data": {
      "text/plain": [
       "3"
      ]
     },
     "execution_count": 132,
     "metadata": {},
     "output_type": "execute_result"
    }
   ],
   "source": [
    "len(tup)"
   ]
  },
  {
   "cell_type": "code",
   "execution_count": 140,
   "id": "2536385d-5dfd-461a-bd9c-e9fcc52a56e6",
   "metadata": {},
   "outputs": [
    {
     "data": {
      "text/plain": [
       "'aniq'"
      ]
     },
     "execution_count": 140,
     "metadata": {},
     "output_type": "execute_result"
    }
   ],
   "source": [
    "tup[1]"
   ]
  },
  {
   "cell_type": "code",
   "execution_count": 141,
   "id": "5aae0015-79d1-4d89-98b0-9d17a4ed8296",
   "metadata": {},
   "outputs": [
    {
     "data": {
      "text/plain": [
       "'aniq'"
      ]
     },
     "execution_count": 141,
     "metadata": {},
     "output_type": "execute_result"
    }
   ],
   "source": [
    "tup[-2]"
   ]
  },
  {
   "cell_type": "code",
   "execution_count": 148,
   "id": "7557fb5e-6f30-494e-bc4c-63087f5cdcb2",
   "metadata": {},
   "outputs": [
    {
     "name": "stdout",
     "output_type": "stream",
     "text": [
      "Help on class tuple in module builtins:\n",
      "\n",
      "class tuple(object)\n",
      " |  tuple(iterable=(), /)\n",
      " |  \n",
      " |  Built-in immutable sequence.\n",
      " |  \n",
      " |  If no argument is given, the constructor returns an empty tuple.\n",
      " |  If iterable is specified the tuple is initialized from iterable's items.\n",
      " |  \n",
      " |  If the argument is a tuple, the return value is the same object.\n",
      " |  \n",
      " |  Built-in subclasses:\n",
      " |      asyncgen_hooks\n",
      " |      UnraisableHookArgs\n",
      " |  \n",
      " |  Methods defined here:\n",
      " |  \n",
      " |  __add__(self, value, /)\n",
      " |      Return self+value.\n",
      " |  \n",
      " |  __contains__(self, key, /)\n",
      " |      Return key in self.\n",
      " |  \n",
      " |  __eq__(self, value, /)\n",
      " |      Return self==value.\n",
      " |  \n",
      " |  __ge__(self, value, /)\n",
      " |      Return self>=value.\n",
      " |  \n",
      " |  __getattribute__(self, name, /)\n",
      " |      Return getattr(self, name).\n",
      " |  \n",
      " |  __getitem__(self, key, /)\n",
      " |      Return self[key].\n",
      " |  \n",
      " |  __getnewargs__(self, /)\n",
      " |  \n",
      " |  __gt__(self, value, /)\n",
      " |      Return self>value.\n",
      " |  \n",
      " |  __hash__(self, /)\n",
      " |      Return hash(self).\n",
      " |  \n",
      " |  __iter__(self, /)\n",
      " |      Implement iter(self).\n",
      " |  \n",
      " |  __le__(self, value, /)\n",
      " |      Return self<=value.\n",
      " |  \n",
      " |  __len__(self, /)\n",
      " |      Return len(self).\n",
      " |  \n",
      " |  __lt__(self, value, /)\n",
      " |      Return self<value.\n",
      " |  \n",
      " |  __mul__(self, value, /)\n",
      " |      Return self*value.\n",
      " |  \n",
      " |  __ne__(self, value, /)\n",
      " |      Return self!=value.\n",
      " |  \n",
      " |  __repr__(self, /)\n",
      " |      Return repr(self).\n",
      " |  \n",
      " |  __rmul__(self, value, /)\n",
      " |      Return value*self.\n",
      " |  \n",
      " |  count(self, value, /)\n",
      " |      Return number of occurrences of value.\n",
      " |  \n",
      " |  index(self, value, start=0, stop=9223372036854775807, /)\n",
      " |      Return first index of value.\n",
      " |      \n",
      " |      Raises ValueError if the value is not present.\n",
      " |  \n",
      " |  ----------------------------------------------------------------------\n",
      " |  Class methods defined here:\n",
      " |  \n",
      " |  __class_getitem__(...) from builtins.type\n",
      " |      See PEP 585\n",
      " |  \n",
      " |  ----------------------------------------------------------------------\n",
      " |  Static methods defined here:\n",
      " |  \n",
      " |  __new__(*args, **kwargs) from builtins.type\n",
      " |      Create and return a new object.  See help(type) for accurate signature.\n",
      "\n"
     ]
    }
   ],
   "source": [
    "help(tuple)"
   ]
  },
  {
   "cell_type": "code",
   "execution_count": 1,
   "id": "093bb0f6-5aa3-40f2-a1c0-6e25c0848ae8",
   "metadata": {},
   "outputs": [
    {
     "name": "stdout",
     "output_type": "stream",
     "text": [
      "{1: 1, 2: 4, 3: 9, 4: 16, 5: 25}\n"
     ]
    }
   ],
   "source": [
    "squ={a:a*a for a in range(1,6)}\n",
    "print(squ)"
   ]
  },
  {
   "cell_type": "code",
   "execution_count": 3,
   "id": "1dc23b17-94d9-4542-9482-ccf18c5b6a84",
   "metadata": {},
   "outputs": [
    {
     "ename": "AttributeError",
     "evalue": "'dict' object has no attribute 'key'",
     "output_type": "error",
     "traceback": [
      "\u001b[1;31m---------------------------------------------------------------------------\u001b[0m",
      "\u001b[1;31mAttributeError\u001b[0m                            Traceback (most recent call last)",
      "Cell \u001b[1;32mIn[3], line 2\u001b[0m\n\u001b[0;32m      1\u001b[0m d\u001b[38;5;241m=\u001b[39m{\u001b[38;5;241m100\u001b[39m:\u001b[38;5;124m'\u001b[39m\u001b[38;5;124maman\u001b[39m\u001b[38;5;124m'\u001b[39m,\u001b[38;5;241m11\u001b[39m:\u001b[38;5;124m'\u001b[39m\u001b[38;5;124malli\u001b[39m\u001b[38;5;124m'\u001b[39m}\n\u001b[1;32m----> 2\u001b[0m \u001b[38;5;28mprint\u001b[39m(d\u001b[38;5;241m.\u001b[39mkey())\n",
      "\u001b[1;31mAttributeError\u001b[0m: 'dict' object has no attribute 'key'"
     ]
    }
   ],
   "source": [
    "d={100:'aman',11:'alli'}\n",
    "print(d.key())"
   ]
  },
  {
   "cell_type": "code",
   "execution_count": 5,
   "id": "5248a08a-49aa-4743-a1cb-262cba0d2833",
   "metadata": {},
   "outputs": [
    {
     "name": "stdout",
     "output_type": "stream",
     "text": [
      "{0, 1, 4, 9, 16}\n"
     ]
    }
   ],
   "source": [
    "s={x*x for x in range(5)}\n",
    "print(s)"
   ]
  },
  {
   "cell_type": "code",
   "execution_count": 6,
   "id": "67ddf644-d74f-459e-91ac-6f70ebdc05e5",
   "metadata": {},
   "outputs": [
    {
     "name": "stdout",
     "output_type": "stream",
     "text": [
      "2\n"
     ]
    }
   ],
   "source": [
    "n={6,6,65}\n",
    "print(len(n))"
   ]
  },
  {
   "cell_type": "code",
   "execution_count": 8,
   "id": "c1da159d-9adb-4bc4-8bc4-5d0238897a27",
   "metadata": {},
   "outputs": [
    {
     "name": "stdout",
     "output_type": "stream",
     "text": [
      "{0, 1, 2, 3, 4, 5, 6, 7, 8, 9}\n"
     ]
    }
   ],
   "source": [
    "r=range(0,10)\n",
    "x=set(r)\n",
    "print(x)"
   ]
  },
  {
   "cell_type": "code",
   "execution_count": 11,
   "id": "801f64e8-1b70-48d9-be51-fa72f074bf42",
   "metadata": {},
   "outputs": [
    {
     "ename": "TypeError",
     "evalue": "unsupported operand type(s) for ** or pow(): 'list' and 'int'",
     "output_type": "error",
     "traceback": [
      "\u001b[1;31m---------------------------------------------------------------------------\u001b[0m",
      "\u001b[1;31mTypeError\u001b[0m                                 Traceback (most recent call last)",
      "Cell \u001b[1;32mIn[11], line 2\u001b[0m\n\u001b[0;32m      1\u001b[0m a\u001b[38;5;241m=\u001b[39m[\u001b[38;5;241m10\u001b[39m,\u001b[38;5;241m20\u001b[39m,\u001b[38;5;241m30\u001b[39m]\n\u001b[1;32m----> 2\u001b[0m \u001b[38;5;28mprint\u001b[39m(a\u001b[38;5;241m*\u001b[39m\u001b[38;5;241m*\u001b[39m\u001b[38;5;241m2\u001b[39m)\n",
      "\u001b[1;31mTypeError\u001b[0m: unsupported operand type(s) for ** or pow(): 'list' and 'int'"
     ]
    }
   ],
   "source": [
    "a=[10,20,30]\n",
    "print(a**2)"
   ]
  },
  {
   "cell_type": "code",
   "execution_count": 10,
   "id": "a29c0d20-912c-470b-b3bd-af90f5a65d6c",
   "metadata": {},
   "outputs": [
    {
     "ename": "SyntaxError",
     "evalue": "invalid decimal literal (2907517597.py, line 1)",
     "output_type": "error",
     "traceback": [
      "\u001b[1;36m  Cell \u001b[1;32mIn[10], line 1\u001b[1;36m\u001b[0m\n\u001b[1;33m    a=2a*2\u001b[0m\n\u001b[1;37m      ^\u001b[0m\n\u001b[1;31mSyntaxError\u001b[0m\u001b[1;31m:\u001b[0m invalid decimal literal\n"
     ]
    }
   ],
   "source": [
    "a=2a*2"
   ]
  },
  {
   "cell_type": "code",
   "execution_count": 12,
   "id": "78de0ace-acd1-42c0-84b0-b34970c5c7bf",
   "metadata": {},
   "outputs": [
    {
     "name": "stdout",
     "output_type": "stream",
     "text": [
      "ABCDEF\n"
     ]
    }
   ],
   "source": [
    "print('ABCDEF'.upper())"
   ]
  },
  {
   "cell_type": "code",
   "execution_count": 13,
   "id": "f687c957-0b5d-439c-9ad9-85f349566350",
   "metadata": {},
   "outputs": [
    {
     "ename": "TypeError",
     "evalue": "'str' object does not support item assignment",
     "output_type": "error",
     "traceback": [
      "\u001b[1;31m---------------------------------------------------------------------------\u001b[0m",
      "\u001b[1;31mTypeError\u001b[0m                                 Traceback (most recent call last)",
      "Cell \u001b[1;32mIn[13], line 2\u001b[0m\n\u001b[0;32m      1\u001b[0m x \u001b[38;5;241m=\u001b[39m \u001b[38;5;124m\"\u001b[39m\u001b[38;5;124mpython\u001b[39m\u001b[38;5;124m\"\u001b[39m\n\u001b[1;32m----> 2\u001b[0m x[\u001b[38;5;241m3\u001b[39m] \u001b[38;5;241m=\u001b[39m \u001b[38;5;124m'\u001b[39m\u001b[38;5;124ms\u001b[39m\u001b[38;5;124m'\u001b[39m\n\u001b[0;32m      4\u001b[0m \u001b[38;5;28mprint\u001b[39m(x)\n",
      "\u001b[1;31mTypeError\u001b[0m: 'str' object does not support item assignment"
     ]
    }
   ],
   "source": [
    " x = \"python\"\n",
    "x[3] = 's'\n",
    "\n",
    "print(x)"
   ]
  },
  {
   "cell_type": "code",
   "execution_count": 14,
   "id": "326e1828-9562-4f48-9bfb-5f66f4c93b71",
   "metadata": {},
   "outputs": [
    {
     "name": "stdout",
     "output_type": "stream",
     "text": [
      "olleh\n"
     ]
    }
   ],
   "source": [
    " str1=\"hello\"\n",
    "\n",
    "print(str1[::-1])"
   ]
  },
  {
   "cell_type": "code",
   "execution_count": 16,
   "id": "dc2439e4-430e-4e66-8a51-1e432048147d",
   "metadata": {},
   "outputs": [
    {
     "name": "stdout",
     "output_type": "stream",
     "text": [
      "hello\n"
     ]
    }
   ],
   "source": [
    "12\n",
    "print(\"hello\")"
   ]
  },
  {
   "cell_type": "code",
   "execution_count": 17,
   "id": "0b4482ae-1c4d-4983-a90e-d8ed6edd206a",
   "metadata": {},
   "outputs": [
    {
     "ename": "SyntaxError",
     "evalue": "cannot assign to literal here. Maybe you meant '==' instead of '='? (4256117696.py, line 1)",
     "output_type": "error",
     "traceback": [
      "\u001b[1;36m  Cell \u001b[1;32mIn[17], line 1\u001b[1;36m\u001b[0m\n\u001b[1;33m    10 = emp_id\u001b[0m\n\u001b[1;37m    ^\u001b[0m\n\u001b[1;31mSyntaxError\u001b[0m\u001b[1;31m:\u001b[0m cannot assign to literal here. Maybe you meant '==' instead of '='?\n"
     ]
    }
   ],
   "source": [
    "10 = emp_id\n",
    "\n",
    "print(emp_id)"
   ]
  },
  {
   "cell_type": "code",
   "execution_count": 18,
   "id": "7fe55584-0eb3-45ef-9600-72892de91f1d",
   "metadata": {},
   "outputs": [
    {
     "ename": "SyntaxError",
     "evalue": "invalid syntax (1194618765.py, line 1)",
     "output_type": "error",
     "traceback": [
      "\u001b[1;36m  Cell \u001b[1;32mIn[18], line 1\u001b[1;36m\u001b[0m\n\u001b[1;33m    if = 100\u001b[0m\n\u001b[1;37m       ^\u001b[0m\n\u001b[1;31mSyntaxError\u001b[0m\u001b[1;31m:\u001b[0m invalid syntax\n"
     ]
    }
   ],
   "source": [
    "if = 100\n",
    "\n",
    "print(if)"
   ]
  },
  {
   "cell_type": "code",
   "execution_count": 20,
   "id": "c7c900a0-8d4d-4683-bea3-4d8868334c65",
   "metadata": {},
   "outputs": [
    {
     "ename": "NameError",
     "evalue": "name 'b' is not defined",
     "output_type": "error",
     "traceback": [
      "\u001b[1;31m---------------------------------------------------------------------------\u001b[0m",
      "\u001b[1;31mNameError\u001b[0m                                 Traceback (most recent call last)",
      "Cell \u001b[1;32mIn[20], line 1\u001b[0m\n\u001b[1;32m----> 1\u001b[0m b\n\u001b[0;32m      3\u001b[0m \u001b[38;5;28mprint\u001b[39m(b)\n",
      "\u001b[1;31mNameError\u001b[0m: name 'b' is not defined"
     ]
    }
   ],
   "source": [
    "b\n",
    "\n",
    "print(b)"
   ]
  },
  {
   "cell_type": "code",
   "execution_count": 21,
   "id": "a3a8c566-1474-484b-bfa4-4d5b4e154457",
   "metadata": {},
   "outputs": [
    {
     "name": "stdout",
     "output_type": "stream",
     "text": [
      "<class 'set'>\n"
     ]
    }
   ],
   "source": [
    " x = {10, 20, 30, 40}\n",
    "print(type(x))"
   ]
  },
  {
   "cell_type": "code",
   "execution_count": 22,
   "id": "348430af-201f-48a9-88cf-661146f61d84",
   "metadata": {},
   "outputs": [
    {
     "name": "stdout",
     "output_type": "stream",
     "text": [
      "<class 'dict'>\n"
     ]
    }
   ],
   "source": [
    " y = {1: \"Deva\", 2: \"Kumari\", 3: \"Prasad\", 4: \"Mani\"}\n",
    "print(type(y))"
   ]
  },
  {
   "cell_type": "code",
   "execution_count": 23,
   "id": "f2268be7-3563-4c06-b5ad-2eab7873ec4b",
   "metadata": {},
   "outputs": [
    {
     "name": "stdout",
     "output_type": "stream",
     "text": [
      "45\n",
      "50\n"
     ]
    }
   ],
   "source": [
    "a = 45\n",
    "\n",
    "print(a)\n",
    "\n",
    " \n",
    "\n",
    "a += 5\n",
    "\n",
    "print(a)"
   ]
  },
  {
   "cell_type": "code",
   "execution_count": 24,
   "id": "b9b51790-1225-4e8a-a794-106e04edf80c",
   "metadata": {},
   "outputs": [
    {
     "name": "stdout",
     "output_type": "stream",
     "text": [
      "['Python', 'programming', 'language']\n"
     ]
    }
   ],
   "source": [
    " s = \"Python programming language\"   \n",
    "\n",
    "n = s.split() \n",
    "\n",
    "print(n)"
   ]
  },
  {
   "cell_type": "code",
   "execution_count": 25,
   "id": "18eb57e7-29c0-4043-bbf8-ed0f862f0ec2",
   "metadata": {},
   "outputs": [
    {
     "name": "stdout",
     "output_type": "stream",
     "text": [
      "o\n"
     ]
    }
   ],
   "source": [
    " str1 = 'hello' \n",
    "print(str1[-1::])"
   ]
  },
  {
   "cell_type": "code",
   "execution_count": 26,
   "id": "63c30e43-a780-4a1b-9bda-44c2b4d50fae",
   "metadata": {},
   "outputs": [
    {
     "name": "stdout",
     "output_type": "stream",
     "text": [
      "(30, 40, 50, 60)\n"
     ]
    }
   ],
   "source": [
    "t = (10, 20, 30, 40, 50, 60)\n",
    "print(t[2:100])   "
   ]
  },
  {
   "cell_type": "code",
   "execution_count": 27,
   "id": "7753516f-6407-4ad6-92e9-108641873367",
   "metadata": {},
   "outputs": [
    {
     "name": "stdout",
     "output_type": "stream",
     "text": [
      "dict_keys([100, 200, 300])\n"
     ]
    }
   ],
   "source": [
    " d = {100: \"Ramesh\", 200: \"Suresh\", 300: \"Mohan\"} \n",
    "print(d.keys())"
   ]
  },
  {
   "cell_type": "code",
   "execution_count": 28,
   "id": "639bc728-62d7-4c48-a27a-d91df9f85972",
   "metadata": {},
   "outputs": [
    {
     "name": "stdout",
     "output_type": "stream",
     "text": [
      "Hello W\n"
     ]
    }
   ],
   "source": [
    " x = \"Hello World\"\n",
    "print(x[0:7])"
   ]
  },
  {
   "cell_type": "code",
   "execution_count": 30,
   "id": "63324e5f-9986-4018-9dd8-7d9c7feb0b94",
   "metadata": {},
   "outputs": [
    {
     "name": "stdout",
     "output_type": "stream",
     "text": [
      "<class 'tuple'>\n"
     ]
    }
   ],
   "source": [
    "name = (\"python\", )\n",
    "print(type(name))"
   ]
  },
  {
   "cell_type": "code",
   "execution_count": 31,
   "id": "731ee4cc-a071-45c6-b80e-de6ab033c62e",
   "metadata": {},
   "outputs": [
    {
     "name": "stdout",
     "output_type": "stream",
     "text": [
      "5\n"
     ]
    }
   ],
   "source": [
    "\n",
    "  n = {10, 20, 30, 40, 50, 10, 10, 10}\n",
    "print(len(n))"
   ]
  },
  {
   "cell_type": "code",
   "execution_count": 32,
   "id": "ac9fcc8c-809c-4356-9eb6-b4840cae0ca3",
   "metadata": {},
   "outputs": [
    {
     "name": "stdout",
     "output_type": "stream",
     "text": [
      "hello\n"
     ]
    }
   ],
   "source": [
    "10\n",
    "\n",
    "print(\"hello\")"
   ]
  },
  {
   "cell_type": "code",
   "execution_count": 34,
   "id": "8ae834f8-af93-4832-b342-1fc93fbcb44b",
   "metadata": {},
   "outputs": [
    {
     "name": "stdout",
     "output_type": "stream",
     "text": [
      "('Today',)\n"
     ]
    }
   ],
   "source": [
    " x = ('Today',)\n",
    "\n",
    "print(x)"
   ]
  },
  {
   "cell_type": "code",
   "execution_count": null,
   "id": "58453db1-1129-4f83-9bdb-e99043a4640b",
   "metadata": {},
   "outputs": [],
   "source": []
  }
 ],
 "metadata": {
  "kernelspec": {
   "display_name": "Python 3 (ipykernel)",
   "language": "python",
   "name": "python3"
  },
  "language_info": {
   "codemirror_mode": {
    "name": "ipython",
    "version": 3
   },
   "file_extension": ".py",
   "mimetype": "text/x-python",
   "name": "python",
   "nbconvert_exporter": "python",
   "pygments_lexer": "ipython3",
   "version": "3.11.5"
  },
  "widgets": {
   "application/vnd.jupyter.widget-state+json": {
    "state": {},
    "version_major": 2,
    "version_minor": 0
   }
  }
 },
 "nbformat": 4,
 "nbformat_minor": 5
}
