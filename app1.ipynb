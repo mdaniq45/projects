{
 "cells": [
  {
   "cell_type": "code",
   "execution_count": 10,
   "id": "639a6f49-9e03-480d-a62f-3434fddabdf8",
   "metadata": {},
   "outputs": [
    {
     "name": "stdout",
     "output_type": "stream",
     "text": [
      "Overwriting app3.py\n"
     ]
    }
   ],
   "source": [
    "%%writefile app3.py\n",
    "\n",
    "import streamlit as st\n",
    "import numpy as np\n",
    "\n",
    "# Load the saved StandardScaler (sc) and LogisticRegression model (classifier)\n",
    "# Assuming that 'sc' and 'classifier' have been trained and saved before\n",
    "\n",
    "# Example: If you have these saved, load them using joblib/pickle\n",
    "import joblib\n",
    "sc = joblib.load('scaler.pkl')\n",
    "classifier = joblib.load('logistic_model.pkl')\n",
    "\n",
    "# Streamlit App\n",
    "st.title('Product Purchase Prediction')\n",
    "\n",
    "# Input features from user\n",
    "age = st.number_input('Enter Age:', min_value=18, max_value=100, value=30)\n",
    "salary = st.number_input('Enter Salary:', min_value=0, max_value=100000, value=50000)\n",
    "\n",
    "# Button to make predictions\n",
    "if st.button('Predict'):\n",
    "    # Feature scaling\n",
    "    user_input = np.array([[age, salary]])\n",
    "    user_input_scaled = sc.transform(user_input)  # Scale the input using the StandardScaler\n",
    "    \n",
    "    # Predict using the classifier\n",
    "    prediction = classifier.predict(user_input_scaled)\n",
    "    \n",
    "    # Display the result\n",
    "    if prediction == 1:\n",
    "        st.success('The person is likely to purchase the product.')\n",
    "    else:\n",
    "        st.error('The person is unlikely to purchase the product.')\n",
    "\n"
   ]
  },
  {
   "cell_type": "code",
   "execution_count": 4,
   "id": "48be99d9-8eff-40d3-8f03-e2ff9c50924b",
   "metadata": {},
   "outputs": [
    {
     "data": {
      "text/plain": [
       "'C:\\\\Users\\\\hi\\\\Naresh IT DS'"
      ]
     },
     "execution_count": 4,
     "metadata": {},
     "output_type": "execute_result"
    }
   ],
   "source": [
    "pwd"
   ]
  },
  {
   "cell_type": "code",
   "execution_count": null,
   "id": "42f2b670-cbad-4411-997f-ab4078ce8bcc",
   "metadata": {},
   "outputs": [],
   "source": []
  }
 ],
 "metadata": {
  "kernelspec": {
   "display_name": "Python 3 (ipykernel)",
   "language": "python",
   "name": "python3"
  },
  "language_info": {
   "codemirror_mode": {
    "name": "ipython",
    "version": 3
   },
   "file_extension": ".py",
   "mimetype": "text/x-python",
   "name": "python",
   "nbconvert_exporter": "python",
   "pygments_lexer": "ipython3",
   "version": "3.12.4"
  }
 },
 "nbformat": 4,
 "nbformat_minor": 5
}
