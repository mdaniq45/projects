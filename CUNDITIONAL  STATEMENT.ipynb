{
 "cells": [
  {
   "cell_type": "code",
   "execution_count": 2,
   "id": "364503c1-e724-47f2-9f77-3a824b2906e3",
   "metadata": {},
   "outputs": [
    {
     "name": "stdout",
     "output_type": "stream",
     "text": [
      "data science\n"
     ]
    }
   ],
   "source": [
    "if True:\n",
    "    print('data science')\n",
    " "
   ]
  },
  {
   "cell_type": "code",
   "execution_count": 5,
   "id": "383d04dc-3692-4130-bcc2-2fa7382abf02",
   "metadata": {},
   "outputs": [
    {
     "name": "stdout",
     "output_type": "stream",
     "text": [
      "data science\n"
     ]
    }
   ],
   "source": [
    "if False:\n",
    "    print(\"by now\")\n",
    "else:\n",
    "    print(\"data science\")"
   ]
  },
  {
   "cell_type": "code",
   "execution_count": 15,
   "id": "b97883ec-0e31-4199-876d-e287ba90f43a",
   "metadata": {},
   "outputs": [
    {
     "name": "stdout",
     "output_type": "stream",
     "text": [
      "true\n"
     ]
    }
   ],
   "source": [
    "x=8\n",
    "r=x%2\n",
    "if r==0:\n",
    "  print(\"true\")\n",
    "if r==-1:\n",
    "  print(\"false\")\n",
    "\n",
    "\n"
   ]
  },
  {
   "cell_type": "code",
   "execution_count": 16,
   "id": "830194bb-5de7-4823-a30c-b4e246169817",
   "metadata": {},
   "outputs": [
    {
     "name": "stdout",
     "output_type": "stream",
     "text": [
      "not print\n"
     ]
    }
   ],
   "source": [
    "if r==2:\n",
    "    print(\"num\")\n",
    "else: \n",
    "    print(\"not print\")"
   ]
  },
  {
   "cell_type": "code",
   "execution_count": 21,
   "id": "20ba9aa4-a9d4-4fba-99eb-fa537ea06953",
   "metadata": {},
   "outputs": [
    {
     "name": "stdout",
     "output_type": "stream",
     "text": [
      "perform devision\n"
     ]
    }
   ],
   "source": [
    "a=22\n",
    "r=22/2\n",
    "if a==22:\n",
    "    print(\"perform devision\")\n",
    "#print(\"not true\")    "
   ]
  },
  {
   "cell_type": "code",
   "execution_count": 22,
   "id": "3f0bf953-0055-4ac8-aa27-1473dd72854a",
   "metadata": {},
   "outputs": [
    {
     "name": "stdout",
     "output_type": "stream",
     "text": [
      "value of b\n",
      "not true\n"
     ]
    }
   ],
   "source": [
    "b=844\n",
    "if b<=3333:\n",
    "    print(\"value of b\")\n",
    "print(\"not true\")    "
   ]
  },
  {
   "cell_type": "code",
   "execution_count": 26,
   "id": "c680a93e-1bf6-48bc-9007-95f4cd8c4c80",
   "metadata": {},
   "outputs": [
    {
     "name": "stdout",
     "output_type": "stream",
     "text": [
      "value of b is lesser\n"
     ]
    }
   ],
   "source": [
    "if b<4:\n",
    "    print(\"value of b is grater \")\n",
    "else:\n",
    "    print(\"value of b is lesser\")"
   ]
  },
  {
   "cell_type": "code",
   "execution_count": 34,
   "id": "721d0764-7bc4-4ba7-a848-389c3e86c6f7",
   "metadata": {},
   "outputs": [
    {
     "name": "stdout",
     "output_type": "stream",
     "text": [
      "print nalur of r\n"
     ]
    }
   ],
   "source": [
    "a=4321\n",
    "r=4321//2\n",
    "if r<=5433:\n",
    "    print(\"print nalur of r\")\n",
    "else:\n",
    "    print(\"not print valur of r \")"
   ]
  },
  {
   "cell_type": "code",
   "execution_count": 47,
   "id": "70668dcc-9bd9-46cb-872d-8faf78bb58d4",
   "metadata": {},
   "outputs": [
    {
     "name": "stdout",
     "output_type": "stream",
     "text": [
      "five\n"
     ]
    }
   ],
   "source": [
    "x=8\n",
    "if x==1:\n",
    "    print(\"one\")\n",
    "elif x==2:\n",
    "    print(\"two\")\n",
    "elif x<3:\n",
    "    print(\"three\")\n",
    "elif x<4:\n",
    "    print(\"four\")\n",
    "elif x!=6:\n",
    "    print(\"five\")\n",
    "else:\n",
    "    "
   ]
  },
  {
   "cell_type": "code",
   "execution_count": 54,
   "id": "4e477dbd-3abc-40eb-8f5c-0aec4ac83b3b",
   "metadata": {},
   "outputs": [
    {
     "name": "stdout",
     "output_type": "stream",
     "text": [
      "value of x\n",
      "four\n",
      "ten\n"
     ]
    }
   ],
   "source": [
    "x=10\n",
    "print('value of x')\n",
    "if x>=4:\n",
    "    print(\"four\")\n",
    "else:\n",
    "    print(\"five\")\n",
    "if x!=1:\n",
    "    print(\"ten\")"
   ]
  },
  {
   "cell_type": "code",
   "execution_count": 56,
   "id": "a2281580-21d2-42fa-a237-5c5af1a8e5f7",
   "metadata": {},
   "outputs": [
    {
     "name": "stdout",
     "output_type": "stream",
     "text": [
      "z\n",
      "z of\n"
     ]
    }
   ],
   "source": [
    "z=100\n",
    "\n",
    "if z==123:\n",
    "    print('value of z')\n",
    "else:\n",
    "    print(\"z\")\n",
    "if z>23:\n",
    " print(\"z of\")"
   ]
  },
  {
   "cell_type": "code",
   "execution_count": 73,
   "id": "4cf4ddfe-2757-4d2a-b756-643d142f3b1a",
   "metadata": {},
   "outputs": [
    {
     "name": "stdout",
     "output_type": "stream",
     "text": [
      "no\n"
     ]
    },
    {
     "name": "stdin",
     "output_type": "stream",
     "text": [
      " ali\n"
     ]
    }
   ],
   "source": [
    "x=\"my name is aniq\"\n",
    "y=\"mohammad\"\n",
    "if x==y:\n",
    "    print(\"yes\")\n",
    "    a=input(\"my name is:\")\n",
    "    \n",
    "else:\n",
    "    print(\"no\")\n",
    "    ab=input(\"\")"
   ]
  },
  {
   "cell_type": "code",
   "execution_count": 65,
   "id": "5c7c3afe-5f01-48b9-9ad8-517abb4a1d9a",
   "metadata": {},
   "outputs": [
    {
     "name": "stdout",
     "output_type": "stream",
     "text": [
      "no problame\n"
     ]
    }
   ],
   "source": [
    "if x !=x:\n",
    "    print('ok')\n",
    "else:\n",
    "    print(\"no problame\")"
   ]
  },
  {
   "cell_type": "code",
   "execution_count": null,
   "id": "3227676d-245a-48e6-8a1a-ce5ced54a21d",
   "metadata": {},
   "outputs": [],
   "source": [
    "a="
   ]
  }
 ],
 "metadata": {
  "kernelspec": {
   "display_name": "Python 3 (ipykernel)",
   "language": "python",
   "name": "python3"
  },
  "language_info": {
   "codemirror_mode": {
    "name": "ipython",
    "version": 3
   },
   "file_extension": ".py",
   "mimetype": "text/x-python",
   "name": "python",
   "nbconvert_exporter": "python",
   "pygments_lexer": "ipython3",
   "version": "3.11.5"
  },
  "widgets": {
   "application/vnd.jupyter.widget-state+json": {
    "state": {},
    "version_major": 2,
    "version_minor": 0
   }
  }
 },
 "nbformat": 4,
 "nbformat_minor": 5
}
