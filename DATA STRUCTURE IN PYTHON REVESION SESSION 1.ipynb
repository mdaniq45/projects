{
 "cells": [
  {
   "cell_type": "markdown",
   "id": "e0f43911-1677-4662-bfc4-ec1eefe82135",
   "metadata": {},
   "source": [
    "### DATA STRUCTURE IN PYTHON REVESION"
   ]
  },
  {
   "cell_type": "markdown",
   "id": "7e02654b-84b6-4826-8e08-25433225c8bf",
   "metadata": {},
   "source": [
    "## LIST "
   ]
  },
  {
   "cell_type": "markdown",
   "id": "b89d60cc-9ead-410d-8ca0-0879f3515a61",
   "metadata": {},
   "source": [
    "'' A LIST IS  AN ORDER COLLECTION OF ELEMENT WHICH STORE  HETROGINUES DATA TYPES (INT, FLOAT SRRING  , ETC)\n",
    "LIST IS MUATABLE MEANING THAT CAN BE CHANE AFTER CREATION ''"
   ]
  },
  {
   "cell_type": "markdown",
   "id": "d69060d0-89e1-4702-a6dd-9c8506b20fe8",
   "metadata": {},
   "source": [
    "### OPERATIONS"
   ]
  },
  {
   "cell_type": "code",
   "execution_count": 5,
   "id": "aad24b78-5500-4f87-85e2-0493b4976578",
   "metadata": {},
   "outputs": [
    {
     "data": {
      "text/plain": [
       "'APPENDING -->LIST.APPEND(ITEM)\\nACCESING ELEMENT --> LIST[INDEX]\\nREMOVING ELEMENTS -->LIST.REMOVE(ITEM) OR LIST[INDEX]\\nSLICING --->LIST[STAR: END'"
      ]
     },
     "execution_count": 5,
     "metadata": {},
     "output_type": "execute_result"
    }
   ],
   "source": [
    "'''APPENDING -->LIST.APPEND(ITEM)\n",
    "ACCESING ELEMENT --> LIST[INDEX]\n",
    "REMOVING ELEMENTS -->LIST.REMOVE(ITEM) OR LIST[INDEX]\n",
    "SLICING --->LIST[STAR: END'''\n"
   ]
  },
  {
   "cell_type": "code",
   "execution_count": 6,
   "id": "63cac3ae-f134-4b7d-9650-0557cf54bd9b",
   "metadata": {},
   "outputs": [
    {
     "data": {
      "text/plain": [
       "[1, 2, 3, 4, 5.5, 'zama', 0]"
      ]
     },
     "execution_count": 6,
     "metadata": {},
     "output_type": "execute_result"
    }
   ],
   "source": [
    "list=[1,2,3,8,8,4,5.5,'zama',0]\n",
    "list"
   ]
  },
  {
   "cell_type": "code",
   "execution_count": 7,
   "id": "091c2b4c-ae4d-42c9-b8e2-c50a64af4d81",
   "metadata": {},
   "outputs": [],
   "source": [
    "list.append(321)"
   ]
  },
  {
   "cell_type": "code",
   "execution_count": 9,
   "id": "25cb6163-7fb0-450c-be34-cddb0c5fbd1e",
   "metadata": {},
   "outputs": [
    {
     "data": {
      "text/plain": [
       "[1, 2, 3, 4, 5.5, 'zama', 0, 321]"
      ]
     },
     "execution_count": 9,
     "metadata": {},
     "output_type": "execute_result"
    }
   ],
   "source": [
    "# adding the element in last\n",
    "list"
   ]
  },
  {
   "cell_type": "code",
   "execution_count": 10,
   "id": "c5a5f83c-259f-458e-b035-de0b5c0e8373",
   "metadata": {},
   "outputs": [
    {
     "data": {
      "text/plain": [
       "3"
      ]
     },
     "execution_count": 10,
     "metadata": {},
     "output_type": "execute_result"
    }
   ],
   "source": [
    "#accesing the element\n",
    "list[2]"
   ]
  },
  {
   "cell_type": "code",
   "execution_count": 11,
   "id": "1874b383-7397-4af5-9e68-95de206c5aab",
   "metadata": {},
   "outputs": [],
   "source": [
    "#removing the element\n",
    "list.remove(3)"
   ]
  },
  {
   "cell_type": "code",
   "execution_count": 12,
   "id": "c55ccec8-2ded-4096-83f9-d609171b17a1",
   "metadata": {},
   "outputs": [
    {
     "data": {
      "text/plain": [
       "[1, 2, 4, 5.5, 'zama', 0, 321]"
      ]
     },
     "execution_count": 12,
     "metadata": {},
     "output_type": "execute_result"
    }
   ],
   "source": [
    "list"
   ]
  },
  {
   "cell_type": "markdown",
   "id": "1c67feb2-f4b4-4213-a5f3-e28b64eb6a15",
   "metadata": {},
   "source": [
    "### nested list"
   ]
  },
  {
   "cell_type": "code",
   "execution_count": 41,
   "id": "6b823b83-a4a8-46ec-a59b-683b3fc4f8a8",
   "metadata": {},
   "outputs": [],
   "source": [
    "list1=[[11,12,14,15,16],[33,4,3,22,63],[43,22,13,53,76],['a','b','c','d']]\n"
   ]
  },
  {
   "cell_type": "code",
   "execution_count": 44,
   "id": "1f3d1a9d-b233-48ce-9ac4-4d80c26ee1ac",
   "metadata": {},
   "outputs": [
    {
     "data": {
      "text/plain": [
       "13"
      ]
     },
     "execution_count": 44,
     "metadata": {},
     "output_type": "execute_result"
    }
   ],
   "source": [
    "list1[2][2]"
   ]
  },
  {
   "cell_type": "code",
   "execution_count": 46,
   "id": "6598799d-ee77-4968-8ee9-78fd9fc00fa0",
   "metadata": {},
   "outputs": [
    {
     "data": {
      "text/plain": [
       "15"
      ]
     },
     "execution_count": 46,
     "metadata": {},
     "output_type": "execute_result"
    }
   ],
   "source": [
    "list1[0][3]"
   ]
  },
  {
   "cell_type": "code",
   "execution_count": 47,
   "id": "555ffa62-28c9-4fac-80f2-ce06703cb973",
   "metadata": {},
   "outputs": [
    {
     "data": {
      "text/plain": [
       "[[11, 12, 14, 15, 16], [33, 4, 3, 22, 63], [43, 22, 13, 53, 76]]"
      ]
     },
     "execution_count": 47,
     "metadata": {},
     "output_type": "execute_result"
    }
   ],
   "source": [
    "list1[:3]"
   ]
  },
  {
   "cell_type": "code",
   "execution_count": 50,
   "id": "d8ffdef5-9d34-41d2-8f68-b81692a1f863",
   "metadata": {},
   "outputs": [
    {
     "data": {
      "text/plain": [
       "[[33, 4, 3, 22, 63]]"
      ]
     },
     "execution_count": 50,
     "metadata": {},
     "output_type": "execute_result"
    }
   ],
   "source": [
    "list1[1:2]"
   ]
  },
  {
   "cell_type": "code",
   "execution_count": 55,
   "id": "4504888f-5b6d-4eb2-a2e9-d1b4898986ee",
   "metadata": {},
   "outputs": [
    {
     "data": {
      "text/plain": [
       "[[11, 12, 14, 15, 16]]"
      ]
     },
     "execution_count": 55,
     "metadata": {},
     "output_type": "execute_result"
    }
   ],
   "source": [
    "list1[0:1]"
   ]
  },
  {
   "cell_type": "code",
   "execution_count": 67,
   "id": "c7560dc9-a7d4-4152-9bd4-3a33c0adc6c6",
   "metadata": {},
   "outputs": [
    {
     "data": {
      "text/plain": [
       "[321, 0, 'zama', 5.5, 4, 2, 1]"
      ]
     },
     "execution_count": 67,
     "metadata": {},
     "output_type": "execute_result"
    }
   ],
   "source": [
    "list[::-1]"
   ]
  },
  {
   "cell_type": "code",
   "execution_count": 70,
   "id": "b9115dda-5bc7-471d-88b6-c557d6c8c3b0",
   "metadata": {},
   "outputs": [
    {
     "ename": "NameError",
     "evalue": "name 'list_my' is not defined",
     "output_type": "error",
     "traceback": [
      "\u001b[1;31m---------------------------------------------------------------------------\u001b[0m",
      "\u001b[1;31mNameError\u001b[0m                                 Traceback (most recent call last)",
      "Cell \u001b[1;32mIn[70], line 1\u001b[0m\n\u001b[1;32m----> 1\u001b[0m \u001b[38;5;28mlist\u001b[39m\u001b[38;5;241m=\u001b[39mlist_my(\u001b[38;5;28mset\u001b[39m(\u001b[38;5;28mlist\u001b[39m))\n",
      "\u001b[1;31mNameError\u001b[0m: name 'list_my' is not defined"
     ]
    }
   ],
   "source": [
    "list=list(set(list))"
   ]
  },
  {
   "cell_type": "code",
   "execution_count": null,
   "id": "ef83a864-cf65-44ee-8bf5-e456b3975e5a",
   "metadata": {},
   "outputs": [],
   "source": []
  },
  {
   "cell_type": "markdown",
   "id": "183dc2ff-4361-4a40-94c8-dd8bc99a9738",
   "metadata": {},
   "source": [
    "## TUPLE"
   ]
  },
  {
   "cell_type": "code",
   "execution_count": 13,
   "id": "7b89931c-ecea-40cb-8479-1e6cad2b5ec1",
   "metadata": {},
   "outputs": [
    {
     "data": {
      "text/plain": [
       "' A tuple is similar to a list but is immuatable meaning it cannot  be change after \\ncreation . tuple are used to store multiple items in  a single mvariable'"
      ]
     },
     "execution_count": 13,
     "metadata": {},
     "output_type": "execute_result"
    }
   ],
   "source": [
    "''' A tuple is similar to a list but is immuatable meaning it cannot  be change after \n",
    "creation . tuple are used to store multiple items in  a single mvariable'''"
   ]
  },
  {
   "cell_type": "markdown",
   "id": "8afe2d44-c92a-474c-9139-6d32b68ac9cc",
   "metadata": {},
   "source": [
    "### operations\n",
    "#### accessing the elements  ,tuple[index]\n",
    "#### length of tuple, len()"
   ]
  },
  {
   "cell_type": "code",
   "execution_count": null,
   "id": "7f5638ec-bfa3-459d-b1c5-2c0ae38fdb97",
   "metadata": {},
   "outputs": [],
   "source": []
  },
  {
   "cell_type": "code",
   "execution_count": 15,
   "id": "229276eb-fd7a-4df4-b265-7172eba6ff70",
   "metadata": {},
   "outputs": [],
   "source": [
    "tup=(1,4,'zama', 'aniq', 5.4,66,10)\n"
   ]
  },
  {
   "cell_type": "code",
   "execution_count": 16,
   "id": "1aea19c5-bbe0-4aea-bd29-3f79a0f1bbb0",
   "metadata": {},
   "outputs": [
    {
     "data": {
      "text/plain": [
       "(1, 4, 'zama', 'aniq', 5.4, 66, 10)"
      ]
     },
     "execution_count": 16,
     "metadata": {},
     "output_type": "execute_result"
    }
   ],
   "source": [
    "tup"
   ]
  },
  {
   "cell_type": "code",
   "execution_count": 17,
   "id": "8a57da6d-428a-44ee-999e-e629c6e70688",
   "metadata": {},
   "outputs": [
    {
     "data": {
      "text/plain": [
       "7"
      ]
     },
     "execution_count": 17,
     "metadata": {},
     "output_type": "execute_result"
    }
   ],
   "source": [
    "#length of tuple\n",
    "len(tup)"
   ]
  },
  {
   "cell_type": "code",
   "execution_count": 18,
   "id": "9fb97df7-f16d-4136-92aa-8f60360daafc",
   "metadata": {},
   "outputs": [
    {
     "data": {
      "text/plain": [
       "'zama'"
      ]
     },
     "execution_count": 18,
     "metadata": {},
     "output_type": "execute_result"
    }
   ],
   "source": [
    "# accessing the element\n",
    "tup[2]"
   ]
  },
  {
   "cell_type": "code",
   "execution_count": 56,
   "id": "d103d00d-91cf-48f7-bddf-58ffbecebe69",
   "metadata": {},
   "outputs": [
    {
     "data": {
      "text/plain": [
       "(1, 4)"
      ]
     },
     "execution_count": 56,
     "metadata": {},
     "output_type": "execute_result"
    }
   ],
   "source": [
    "tup[:2]"
   ]
  },
  {
   "cell_type": "code",
   "execution_count": 59,
   "id": "c88020f7-4f72-46f4-bb3f-083b2a264041",
   "metadata": {},
   "outputs": [
    {
     "data": {
      "text/plain": [
       "(1, 4)"
      ]
     },
     "execution_count": 59,
     "metadata": {},
     "output_type": "execute_result"
    }
   ],
   "source": [
    "tup[0:2]"
   ]
  },
  {
   "cell_type": "code",
   "execution_count": null,
   "id": "044ae3f3-3687-4d75-bb73-bbc79042732a",
   "metadata": {},
   "outputs": [],
   "source": []
  },
  {
   "cell_type": "markdown",
   "id": "d5752b70-edd6-47f6-bb47-e3966eeed88f",
   "metadata": {},
   "source": [
    "## DICTIONARY"
   ]
  },
  {
   "cell_type": "code",
   "execution_count": 19,
   "id": "7cb49785-97ac-4ab6-8035-83c57acc3dae",
   "metadata": {},
   "outputs": [
    {
     "data": {
      "text/plain": [
       "' A dictionary is  an unordered collection of key-value pair . each element - key \\nmust be unique and  it allows fast lookups by key.'"
      ]
     },
     "execution_count": 19,
     "metadata": {},
     "output_type": "execute_result"
    }
   ],
   "source": [
    "''' A dictionary is  an unordered collection of key-value pair . each element - key \n",
    "must be unique and  it allows fast lookups by key.'''"
   ]
  },
  {
   "cell_type": "markdown",
   "id": "8da78923-fd3d-42e9-9f92-a5b56ec380fe",
   "metadata": {},
   "source": [
    "### operations"
   ]
  },
  {
   "cell_type": "code",
   "execution_count": 20,
   "id": "e80fb940-2046-4467-8c05-66ffdae66bf3",
   "metadata": {},
   "outputs": [
    {
     "data": {
      "text/plain": [
       "'# accesing value  --> dict[key]\\n## adding the element / updating and key values   dict[key]=value\\n### removing  a key-value  dict.pop(key)'"
      ]
     },
     "execution_count": 20,
     "metadata": {},
     "output_type": "execute_result"
    }
   ],
   "source": [
    "'''# accesing value  --> dict[key]\n",
    "## adding the element / updating and key values   dict[key]=value\n",
    "### removing  a key-value  dict.pop(key)'''\n"
   ]
  },
  {
   "cell_type": "code",
   "execution_count": 23,
   "id": "851c12a3-5778-41df-bd73-d65248cfb28b",
   "metadata": {},
   "outputs": [
    {
     "name": "stdout",
     "output_type": "stream",
     "text": [
      "{'name': 'aniq', 'age': 23, 'language': 'python'}\n"
     ]
    }
   ],
   "source": [
    "dic={'name':'aniq', 'age':23, 'language':'python'}\n",
    "print(dic)"
   ]
  },
  {
   "cell_type": "code",
   "execution_count": 24,
   "id": "17a36508-cf48-4254-84a6-05fa5e2c9ca2",
   "metadata": {},
   "outputs": [
    {
     "data": {
      "text/plain": [
       "'aniq'"
      ]
     },
     "execution_count": 24,
     "metadata": {},
     "output_type": "execute_result"
    }
   ],
   "source": [
    "# accesing value by keys\n",
    "dic['name']"
   ]
  },
  {
   "cell_type": "code",
   "execution_count": 25,
   "id": "30ebeb3a-a2f6-4127-b7e6-ef1fd81c5579",
   "metadata": {},
   "outputs": [
    {
     "data": {
      "text/plain": [
       "23"
      ]
     },
     "execution_count": 25,
     "metadata": {},
     "output_type": "execute_result"
    }
   ],
   "source": [
    "dic['age']"
   ]
  },
  {
   "cell_type": "code",
   "execution_count": 61,
   "id": "147aa015-6ba6-4538-9571-d29ce60bd28c",
   "metadata": {},
   "outputs": [
    {
     "data": {
      "text/plain": [
       "{'name': 'aniq', 'age': 22, 'city': 'nawada', 'edu': 'data science student'}"
      ]
     },
     "execution_count": 61,
     "metadata": {},
     "output_type": "execute_result"
    }
   ],
   "source": [
    "dic['age']=22\n",
    "dic"
   ]
  },
  {
   "cell_type": "code",
   "execution_count": 26,
   "id": "148cbf16-ad31-44ca-8191-a0ee60efb4df",
   "metadata": {},
   "outputs": [],
   "source": [
    "# adding the key value pairs\n",
    "dic['city']='nawada'\n"
   ]
  },
  {
   "cell_type": "code",
   "execution_count": 27,
   "id": "cd69b1c8-7711-4444-b081-ff5c098512d6",
   "metadata": {},
   "outputs": [
    {
     "data": {
      "text/plain": [
       "{'name': 'aniq', 'age': 23, 'language': 'python', 'city': 'nawada'}"
      ]
     },
     "execution_count": 27,
     "metadata": {},
     "output_type": "execute_result"
    }
   ],
   "source": [
    "dic"
   ]
  },
  {
   "cell_type": "code",
   "execution_count": 28,
   "id": "a00b3c73-9e29-49c3-935e-cf253048559d",
   "metadata": {},
   "outputs": [],
   "source": [
    "dic['edu']='data science student'\n"
   ]
  },
  {
   "cell_type": "code",
   "execution_count": 29,
   "id": "908a0f1b-6077-455c-b7f2-7f9c18e750e3",
   "metadata": {},
   "outputs": [
    {
     "data": {
      "text/plain": [
       "{'name': 'aniq',\n",
       " 'age': 23,\n",
       " 'language': 'python',\n",
       " 'city': 'nawada',\n",
       " 'edu': 'data science student'}"
      ]
     },
     "execution_count": 29,
     "metadata": {},
     "output_type": "execute_result"
    }
   ],
   "source": [
    "dic"
   ]
  },
  {
   "cell_type": "code",
   "execution_count": 30,
   "id": "9e802dc0-f694-4e7f-87f3-08f95ef2db94",
   "metadata": {},
   "outputs": [
    {
     "data": {
      "text/plain": [
       "'python'"
      ]
     },
     "execution_count": 30,
     "metadata": {},
     "output_type": "execute_result"
    }
   ],
   "source": [
    "# removing a key value pair\n",
    "dic.pop('language')"
   ]
  },
  {
   "cell_type": "code",
   "execution_count": 63,
   "id": "36c8f642-d590-4dcf-a0d3-9400c56f4d8d",
   "metadata": {},
   "outputs": [
    {
     "data": {
      "text/plain": [
       "{'zama': 432, 'abdull': 567, 'ali': 453}"
      ]
     },
     "execution_count": 63,
     "metadata": {},
     "output_type": "execute_result"
    }
   ],
   "source": [
    "dic_score={'zama':432,'abdull':567,'ali':453}\n",
    "dic_score"
   ]
  },
  {
   "cell_type": "code",
   "execution_count": 65,
   "id": "86ad872f-4f91-497a-9ae2-f7f5a9da0a3f",
   "metadata": {},
   "outputs": [
    {
     "name": "stdout",
     "output_type": "stream",
     "text": [
      "{'zama': 432, 'abdull': 567, 'ali': 453}\n",
      "{'zama': 432, 'abdull': 567, 'ali': 453}\n",
      "{'zama': 432, 'abdull': 567, 'ali': 453}\n"
     ]
    }
   ],
   "source": [
    "for dic,score in dic_score.items():\n",
    "    print(dic_score)"
   ]
  },
  {
   "cell_type": "markdown",
   "id": "9c3d331e-66a8-4260-b03e-1b34d8c9530b",
   "metadata": {},
   "source": [
    "## set"
   ]
  },
  {
   "cell_type": "code",
   "execution_count": 31,
   "id": "abe0c808-380f-456b-a926-01d5505a4bbc",
   "metadata": {},
   "outputs": [
    {
     "data": {
      "text/plain": [
       "' a set is an unorder collection of unique elements  set are mutaible but \\ndo not allow duplicate'"
      ]
     },
     "execution_count": 31,
     "metadata": {},
     "output_type": "execute_result"
    }
   ],
   "source": [
    "''' a set is an unorder collection of unique elements  set are mutaible but \n",
    "do not allow duplicate'''"
   ]
  },
  {
   "cell_type": "markdown",
   "id": "a79efdf6-ca6f-4ab8-a7d1-a4cae0c74f28",
   "metadata": {},
   "source": [
    "### operations"
   ]
  },
  {
   "cell_type": "code",
   "execution_count": null,
   "id": "2a1c37a9-0bf5-43e7-bfc2-408e19353fe4",
   "metadata": {},
   "outputs": [],
   "source": [
    "# adding  the elements ,set.add(item)\n",
    "# removing the elements , set.remove(item)\n",
    "# union set1. union(set)  , set1. union(set2)\n",
    "# intersection set1.intersection(set2)"
   ]
  },
  {
   "cell_type": "code",
   "execution_count": 32,
   "id": "3edd5583-d744-4065-9c66-b3eca5f49e4f",
   "metadata": {},
   "outputs": [
    {
     "data": {
      "text/plain": [
       "{1, 2, 3, 4, 6, 'aniq', 'mohamad', 'zama'}"
      ]
     },
     "execution_count": 32,
     "metadata": {},
     "output_type": "execute_result"
    }
   ],
   "source": [
    "set={1,2,3,4,6, 'zama','mohamad', 'aniq'}\n",
    "set"
   ]
  },
  {
   "cell_type": "code",
   "execution_count": 33,
   "id": "36546d08-62ec-4c77-97ec-098ca4f1ce81",
   "metadata": {},
   "outputs": [],
   "source": [
    "set.add(324)\n"
   ]
  },
  {
   "cell_type": "code",
   "execution_count": 40,
   "id": "7b48f4cc-4488-4155-ac65-1c983e4dd286",
   "metadata": {},
   "outputs": [
    {
     "data": {
      "text/plain": [
       "{1, 3, 324, 4, 6, 'aniq', 'mohamad', 'zama'}"
      ]
     },
     "execution_count": 40,
     "metadata": {},
     "output_type": "execute_result"
    }
   ],
   "source": [
    "set.add(1)\n",
    "set"
   ]
  },
  {
   "cell_type": "code",
   "execution_count": 34,
   "id": "031f738f-df7c-41e5-8736-d100b1c0fc80",
   "metadata": {},
   "outputs": [
    {
     "data": {
      "text/plain": [
       "{1, 2, 3, 324, 4, 6, 'aniq', 'mohamad', 'zama'}"
      ]
     },
     "execution_count": 34,
     "metadata": {},
     "output_type": "execute_result"
    }
   ],
   "source": [
    "set"
   ]
  },
  {
   "cell_type": "code",
   "execution_count": 35,
   "id": "73c14dc5-fc4d-43fe-b10e-f279a261b912",
   "metadata": {},
   "outputs": [],
   "source": [
    "set.remove(2)"
   ]
  },
  {
   "cell_type": "code",
   "execution_count": 36,
   "id": "addcf921-0723-4caf-9908-16e6069948bf",
   "metadata": {},
   "outputs": [
    {
     "data": {
      "text/plain": [
       "{1, 3, 324, 4, 6, 'aniq', 'mohamad', 'zama'}"
      ]
     },
     "execution_count": 36,
     "metadata": {},
     "output_type": "execute_result"
    }
   ],
   "source": [
    "set"
   ]
  },
  {
   "cell_type": "code",
   "execution_count": 37,
   "id": "f68a3422-4bff-4979-b247-7149f812f024",
   "metadata": {},
   "outputs": [
    {
     "data": {
      "text/plain": [
       "{1, 3, 324, 4, 5, 6, 7, 9, 'aniq', 'mohamad', 'zama'}"
      ]
     },
     "execution_count": 37,
     "metadata": {},
     "output_type": "execute_result"
    }
   ],
   "source": [
    "set1={3,5,7,9}\n",
    "set.union(set1)"
   ]
  },
  {
   "cell_type": "code",
   "execution_count": 38,
   "id": "f66360b7-82ff-4436-ac8c-75e472b9e135",
   "metadata": {},
   "outputs": [
    {
     "data": {
      "text/plain": [
       "{3, 5, 7, 9}"
      ]
     },
     "execution_count": 38,
     "metadata": {},
     "output_type": "execute_result"
    }
   ],
   "source": [
    "set1.intersection(set1)"
   ]
  },
  {
   "cell_type": "code",
   "execution_count": 66,
   "id": "c96bb0c1-c011-46b2-8f99-571771e08d21",
   "metadata": {},
   "outputs": [
    {
     "data": {
      "text/plain": [
       "{1, 324, 4, 6, 'aniq', 'mohamad', 'zama'}"
      ]
     },
     "execution_count": 66,
     "metadata": {},
     "output_type": "execute_result"
    }
   ],
   "source": [
    "set.difference(set1)"
   ]
  },
  {
   "cell_type": "code",
   "execution_count": null,
   "id": "d1509fb4-b18a-4f5e-9cda-753204ffd9d5",
   "metadata": {},
   "outputs": [],
   "source": []
  }
 ],
 "metadata": {
  "kernelspec": {
   "display_name": "Python 3 (ipykernel)",
   "language": "python",
   "name": "python3"
  },
  "language_info": {
   "codemirror_mode": {
    "name": "ipython",
    "version": 3
   },
   "file_extension": ".py",
   "mimetype": "text/x-python",
   "name": "python",
   "nbconvert_exporter": "python",
   "pygments_lexer": "ipython3",
   "version": "3.11.5"
  },
  "widgets": {
   "application/vnd.jupyter.widget-state+json": {
    "state": {},
    "version_major": 2,
    "version_minor": 0
   }
  }
 },
 "nbformat": 4,
 "nbformat_minor": 5
}
