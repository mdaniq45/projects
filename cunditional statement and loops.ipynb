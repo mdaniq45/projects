{
 "cells": [
  {
   "cell_type": "markdown",
   "id": "7f951532-19df-40ad-9863-0ed2639ce7af",
   "metadata": {},
   "source": [
    "## cunditional statement and loops"
   ]
  },
  {
   "cell_type": "code",
   "execution_count": 3,
   "id": "a7cd6e1f-adb5-4295-8b1a-d244305aef83",
   "metadata": {},
   "outputs": [
    {
     "name": "stdout",
     "output_type": "stream",
     "text": [
      "n\n"
     ]
    }
   ],
   "source": [
    "x=15\n",
    "r=x%2\n",
    "if r==0:\n",
    "  print('gd')\n",
    "if r==1:\n",
    "    print('n')\n",
    "\n",
    "if r==2:\n",
    "    print('j')"
   ]
  },
  {
   "cell_type": "code",
   "execution_count": 10,
   "id": "41fdb07f-9ca0-4484-b54c-72f29d1069ba",
   "metadata": {},
   "outputs": [
    {
     "name": "stdout",
     "output_type": "stream",
     "text": [
      "crt\n"
     ]
    }
   ],
   "source": [
    "x=432\n",
    "y=324\n",
    "if r==0:\n",
    "    print('c')\n",
    "\n",
    "if y==1:\n",
    "    print('cr')\n",
    "\n",
    "if x==432:\n",
    "    print('crt')\n",
    "#break\n",
    "\n",
    "else:\n",
    "    print('no problame')"
   ]
  },
  {
   "cell_type": "code",
   "execution_count": 14,
   "id": "3f83ab32-7f64-4359-9288-5dcee7c64884",
   "metadata": {},
   "outputs": [
    {
     "name": "stdout",
     "output_type": "stream",
     "text": [
      "vdd\n"
     ]
    }
   ],
   "source": [
    "x=555\n",
    "if x<=333:\n",
    "    print('val odf x')\n",
    "if x==555:\n",
    "    print('vdd')\n",
    "\n",
    "elif(x==444):\n",
    "    print('dssr')\n",
    "\n",
    "elif(x==555):\n",
    "    print('jkkoo')\n",
    "\n",
    "else:\n",
    "    print('wrong op')"
   ]
  },
  {
   "cell_type": "code",
   "execution_count": null,
   "id": "a5e9de3b-9ce4-420b-8dbe-a2f1b34faf76",
   "metadata": {},
   "outputs": [],
   "source": []
  }
 ],
 "metadata": {
  "kernelspec": {
   "display_name": "Python 3 (ipykernel)",
   "language": "python",
   "name": "python3"
  },
  "language_info": {
   "codemirror_mode": {
    "name": "ipython",
    "version": 3
   },
   "file_extension": ".py",
   "mimetype": "text/x-python",
   "name": "python",
   "nbconvert_exporter": "python",
   "pygments_lexer": "ipython3",
   "version": "3.11.7"
  },
  "widgets": {
   "application/vnd.jupyter.widget-state+json": {
    "state": {},
    "version_major": 2,
    "version_minor": 0
   }
  }
 },
 "nbformat": 4,
 "nbformat_minor": 5
}
