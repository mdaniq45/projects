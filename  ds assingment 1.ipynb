{
 "cells": [
  {
   "cell_type": "code",
   "execution_count": 5,
   "id": "c90e2762-8ee1-43d3-a78c-216a28bfd482",
   "metadata": {},
   "outputs": [
    {
     "data": {
      "text/plain": [
       "str"
      ]
     },
     "execution_count": 5,
     "metadata": {},
     "output_type": "execute_result"
    }
   ],
   "source": [
    "a=77\n",
    "b='mohammad'\n",
    "type(a)\n",
    "type(b)"
   ]
  },
  {
   "cell_type": "code",
   "execution_count": null,
   "id": "6b9e7350-b14a-42f6-a9cb-dc5f6ac1d3f1",
   "metadata": {},
   "outputs": [],
   "source": []
  },
  {
   "cell_type": "code",
   "execution_count": 6,
   "id": "bf88cb4c-c7df-4d96-8f14-a8110dc94490",
   "metadata": {},
   "outputs": [
    {
     "ename": "NameError",
     "evalue": "name 'convert' is not defined",
     "output_type": "error",
     "traceback": [
      "\u001b[1;31m---------------------------------------------------------------------------\u001b[0m",
      "\u001b[1;31mNameError\u001b[0m                                 Traceback (most recent call last)",
      "Cell \u001b[1;32mIn[6], line 1\u001b[0m\n\u001b[1;32m----> 1\u001b[0m convert(a,b)\n",
      "\u001b[1;31mNameError\u001b[0m: name 'convert' is not defined"
     ]
    }
   ],
   "source": [
    "convert(a,b)"
   ]
  },
  {
   "cell_type": "code",
   "execution_count": 3,
   "id": "1a7bc030-98e5-4e7e-8a9b-219bf89f761a",
   "metadata": {},
   "outputs": [
    {
     "ename": "NameError",
     "evalue": "name 'str_to_int' is not defined",
     "output_type": "error",
     "traceback": [
      "\u001b[1;31m---------------------------------------------------------------------------\u001b[0m",
      "\u001b[1;31mNameError\u001b[0m                                 Traceback (most recent call last)",
      "Cell \u001b[1;32mIn[3], line 1\u001b[0m\n\u001b[1;32m----> 1\u001b[0m str_to_int(b)\n",
      "\u001b[1;31mNameError\u001b[0m: name 'str_to_int' is not defined"
     ]
    }
   ],
   "source": [
    "str_to_int(b)"
   ]
  },
  {
   "cell_type": "code",
   "execution_count": 4,
   "id": "5f1514e1-782e-4c8d-838f-1dc8c90f7876",
   "metadata": {},
   "outputs": [
    {
     "ename": "NameError",
     "evalue": "name 'stringToint' is not defined",
     "output_type": "error",
     "traceback": [
      "\u001b[1;31m---------------------------------------------------------------------------\u001b[0m",
      "\u001b[1;31mNameError\u001b[0m                                 Traceback (most recent call last)",
      "Cell \u001b[1;32mIn[4], line 1\u001b[0m\n\u001b[1;32m----> 1\u001b[0m stringToint(b)\n",
      "\u001b[1;31mNameError\u001b[0m: name 'stringToint' is not defined"
     ]
    }
   ],
   "source": [
    "stringToint(b)"
   ]
  },
  {
   "cell_type": "code",
   "execution_count": 7,
   "id": "fb075c26-14b4-4348-acfb-020816706737",
   "metadata": {},
   "outputs": [
    {
     "name": "stdout",
     "output_type": "stream",
     "text": [
      "2\n"
     ]
    }
   ],
   "source": [
    "x=5\n",
    "y=2\n",
    "print(x//y)"
   ]
  },
  {
   "cell_type": "code",
   "execution_count": 8,
   "id": "1ff7d81d-c698-419b-b6f4-99c6efe11074",
   "metadata": {},
   "outputs": [
    {
     "ename": "AttributeError",
     "evalue": "'str' object has no attribute 'str2'",
     "output_type": "error",
     "traceback": [
      "\u001b[1;31m---------------------------------------------------------------------------\u001b[0m",
      "\u001b[1;31mAttributeError\u001b[0m                            Traceback (most recent call last)",
      "Cell \u001b[1;32mIn[8], line 3\u001b[0m\n\u001b[0;32m      1\u001b[0m str1\u001b[38;5;241m=\u001b[39m\u001b[38;5;124m'\u001b[39m\u001b[38;5;124malli\u001b[39m\u001b[38;5;124m'\u001b[39m\n\u001b[0;32m      2\u001b[0m str2\u001b[38;5;241m=\u001b[39m\u001b[38;5;124m'\u001b[39m\u001b[38;5;124mzafar\u001b[39m\u001b[38;5;124m'\u001b[39m\n\u001b[1;32m----> 3\u001b[0m str1\u001b[38;5;241m.\u001b[39mstr2\n",
      "\u001b[1;31mAttributeError\u001b[0m: 'str' object has no attribute 'str2'"
     ]
    }
   ],
   "source": [
    "str1='alli'\n",
    "str2='zafar'\n",
    "str1.str2"
   ]
  },
  {
   "cell_type": "code",
   "execution_count": 9,
   "id": "fed9a12e-6be8-4b88-9221-1c17f9cdcc18",
   "metadata": {},
   "outputs": [
    {
     "data": {
      "text/plain": [
       "'allizafar'"
      ]
     },
     "execution_count": 9,
     "metadata": {},
     "output_type": "execute_result"
    }
   ],
   "source": [
    "str1+str2"
   ]
  },
  {
   "cell_type": "code",
   "execution_count": null,
   "id": "f84625a2-3cea-4e8b-831a-9ecdbe07fb41",
   "metadata": {},
   "outputs": [],
   "source": [
    "concate(str1,str2)"
   ]
  },
  {
   "cell_type": "code",
   "execution_count": 11,
   "id": "aaf23dca-cf93-4994-b6f7-1ad1a79ae275",
   "metadata": {},
   "outputs": [
    {
     "name": "stdout",
     "output_type": "stream",
     "text": [
      "ell\n"
     ]
    }
   ],
   "source": [
    "x='hello'\n",
    "print(x[1:4])\n"
   ]
  },
  {
   "cell_type": "code",
   "execution_count": 12,
   "id": "e670271b-fe2d-493c-84e2-7b5362133686",
   "metadata": {},
   "outputs": [
    {
     "data": {
      "text/plain": [
       "5"
      ]
     },
     "execution_count": 12,
     "metadata": {},
     "output_type": "execute_result"
    }
   ],
   "source": [
    "len(x)"
   ]
  },
  {
   "cell_type": "code",
   "execution_count": 15,
   "id": "22593a4d-08b7-4fa6-a8ef-626be576fe09",
   "metadata": {},
   "outputs": [
    {
     "ename": "SyntaxError",
     "evalue": "invalid syntax (3173955571.py, line 1)",
     "output_type": "error",
     "traceback": [
      "\u001b[1;36m  Cell \u001b[1;32mIn[15], line 1\u001b[1;36m\u001b[0m\n\u001b[1;33m    continue(x)\u001b[0m\n\u001b[1;37m            ^\u001b[0m\n\u001b[1;31mSyntaxError\u001b[0m\u001b[1;31m:\u001b[0m invalid syntax\n"
     ]
    }
   ],
   "source": [
    "co(x)"
   ]
  },
  {
   "cell_type": "code",
   "execution_count": 17,
   "id": "06a08b72-d19b-4ea5-9d77-c3681bd2d0a4",
   "metadata": {},
   "outputs": [
    {
     "data": {
      "text/plain": [
       "5"
      ]
     },
     "execution_count": 17,
     "metadata": {},
     "output_type": "execute_result"
    }
   ],
   "source": [
    "len(x)"
   ]
  },
  {
   "cell_type": "code",
   "execution_count": 18,
   "id": "599c71b2-0ed8-406e-a5ab-84c633676884",
   "metadata": {},
   "outputs": [
    {
     "data": {
      "text/plain": [
       "<enumerate at 0x2120a180e50>"
      ]
     },
     "execution_count": 18,
     "metadata": {},
     "output_type": "execute_result"
    }
   ],
   "source": [
    "enumerate(x)\n"
   ]
  },
  {
   "cell_type": "code",
   "execution_count": 19,
   "id": "844213f2-56d9-4811-8387-e5bced422a4e",
   "metadata": {},
   "outputs": [
    {
     "ename": "TypeError",
     "evalue": "not all arguments converted during string formatting",
     "output_type": "error",
     "traceback": [
      "\u001b[1;31m---------------------------------------------------------------------------\u001b[0m",
      "\u001b[1;31mTypeError\u001b[0m                                 Traceback (most recent call last)",
      "Cell \u001b[1;32mIn[19], line 3\u001b[0m\n\u001b[0;32m      1\u001b[0m a\u001b[38;5;241m=\u001b[39m[\u001b[38;5;241m1\u001b[39m,\u001b[38;5;241m2\u001b[39m,\u001b[38;5;241m3\u001b[39m,\u001b[38;5;241m4\u001b[39m]\n\u001b[0;32m      2\u001b[0m y\u001b[38;5;241m=\u001b[39m\u001b[38;5;28mfilter\u001b[39m(\u001b[38;5;28;01mlambda\u001b[39;00m a:a\u001b[38;5;241m%\u001b[39m\u001b[38;5;241m2\u001b[39m\u001b[38;5;241m==\u001b[39m\u001b[38;5;241m0\u001b[39m,x)\n\u001b[1;32m----> 3\u001b[0m \u001b[38;5;28mprint\u001b[39m(\u001b[38;5;28mlist\u001b[39m(y))\n",
      "Cell \u001b[1;32mIn[19], line 2\u001b[0m, in \u001b[0;36m<lambda>\u001b[1;34m(a)\u001b[0m\n\u001b[0;32m      1\u001b[0m a\u001b[38;5;241m=\u001b[39m[\u001b[38;5;241m1\u001b[39m,\u001b[38;5;241m2\u001b[39m,\u001b[38;5;241m3\u001b[39m,\u001b[38;5;241m4\u001b[39m]\n\u001b[1;32m----> 2\u001b[0m y\u001b[38;5;241m=\u001b[39m\u001b[38;5;28mfilter\u001b[39m(\u001b[38;5;28;01mlambda\u001b[39;00m a:a\u001b[38;5;241m%\u001b[39m\u001b[38;5;241m2\u001b[39m\u001b[38;5;241m==\u001b[39m\u001b[38;5;241m0\u001b[39m,x)\n\u001b[0;32m      3\u001b[0m \u001b[38;5;28mprint\u001b[39m(\u001b[38;5;28mlist\u001b[39m(y))\n",
      "\u001b[1;31mTypeError\u001b[0m: not all arguments converted during string formatting"
     ]
    }
   ],
   "source": [
    "a=[1,2,3,4]\n",
    "y=filter(lambda a:a%2==0,x)\n",
    "print(list(y))\n"
   ]
  },
  {
   "cell_type": "code",
   "execution_count": 20,
   "id": "8c0e8aad-8b03-44bb-8949-1e511bd0959e",
   "metadata": {},
   "outputs": [
    {
     "data": {
      "text/plain": [
       "'hello'"
      ]
     },
     "execution_count": 20,
     "metadata": {},
     "output_type": "execute_result"
    }
   ],
   "source": [
    "str(x)"
   ]
  },
  {
   "cell_type": "code",
   "execution_count": 21,
   "id": "b6eff93d-186f-4075-b584-252f2f76a31d",
   "metadata": {},
   "outputs": [
    {
     "ename": "NameError",
     "evalue": "name 'count' is not defined",
     "output_type": "error",
     "traceback": [
      "\u001b[1;31m---------------------------------------------------------------------------\u001b[0m",
      "\u001b[1;31mNameError\u001b[0m                                 Traceback (most recent call last)",
      "Cell \u001b[1;32mIn[21], line 1\u001b[0m\n\u001b[1;32m----> 1\u001b[0m count(x)\n",
      "\u001b[1;31mNameError\u001b[0m: name 'count' is not defined"
     ]
    }
   ],
   "source": [
    "count(x)"
   ]
  },
  {
   "cell_type": "code",
   "execution_count": 22,
   "id": "774ee773-daf6-440e-91da-310be095471d",
   "metadata": {},
   "outputs": [
    {
     "data": {
      "text/plain": [
       "'the \\n       anique zzama is a student'"
      ]
     },
     "execution_count": 22,
     "metadata": {},
     "output_type": "execute_result"
    }
   ],
   "source": [
    "'''the \n",
    "       anique zzama is a student'''"
   ]
  },
  {
   "cell_type": "code",
   "execution_count": 23,
   "id": "2eb97c9f-fffc-45e2-92a7-0c59aeff1019",
   "metadata": {},
   "outputs": [
    {
     "ename": "SyntaxError",
     "evalue": "invalid syntax (66940899.py, line 2)",
     "output_type": "error",
     "traceback": [
      "\u001b[1;36m  Cell \u001b[1;32mIn[23], line 2\u001b[1;36m\u001b[0m\n\u001b[1;33m    copy code\u001b[0m\n\u001b[1;37m         ^\u001b[0m\n\u001b[1;31mSyntaxError\u001b[0m\u001b[1;31m:\u001b[0m invalid syntax\n"
     ]
    }
   ],
   "source": [
    "#python\n",
    "copy code\n",
    "print(type({}))"
   ]
  },
  {
   "cell_type": "code",
   "execution_count": 24,
   "id": "6b485a8c-cbcb-4590-8deb-2bc767cb1f45",
   "metadata": {},
   "outputs": [
    {
     "name": "stdout",
     "output_type": "stream",
     "text": [
      "2\n"
     ]
    },
    {
     "data": {
      "text/plain": [
       "['a', 'b', 'c', 1, 5]"
      ]
     },
     "execution_count": 24,
     "metadata": {},
     "output_type": "execute_result"
    }
   ],
   "source": [
    "list1=['a','b','c',1,2]\n",
    "print(list1.pop())\n",
    "list1\n",
    "list1.append(5)\n",
    "list1"
   ]
  },
  {
   "cell_type": "code",
   "execution_count": null,
   "id": "fd08b814-3dd9-47cc-b425-c193041161ee",
   "metadata": {},
   "outputs": [],
   "source": [
    "#list1.add(9)"
   ]
  },
  {
   "cell_type": "code",
   "execution_count": 25,
   "id": "d06ed435-92b2-40b9-aae3-be66921d7ad7",
   "metadata": {},
   "outputs": [
    {
     "name": "stdout",
     "output_type": "stream",
     "text": [
      "True\n"
     ]
    }
   ],
   "source": [
    "var=3\n",
    "print(2==2.0)\n"
   ]
  },
  {
   "cell_type": "code",
   "execution_count": 26,
   "id": "3ccacbd7-c4e0-455c-8e96-d031608154c7",
   "metadata": {},
   "outputs": [
    {
     "name": "stdout",
     "output_type": "stream",
     "text": [
      "(4+5j)\n",
      "<class 'complex'>\n"
     ]
    }
   ],
   "source": [
    "n=4+5j\n",
    "print(n)\n",
    "print(type(n))"
   ]
  },
  {
   "cell_type": "code",
   "execution_count": 27,
   "id": "8bc65102-acd5-411c-ad7e-8093582c9ca4",
   "metadata": {},
   "outputs": [
    {
     "name": "stdout",
     "output_type": "stream",
     "text": [
      "76\n"
     ]
    }
   ],
   "source": [
    "print(int(76.7))"
   ]
  },
  {
   "cell_type": "code",
   "execution_count": 28,
   "id": "25900222-915e-4272-8e93-54c44cd19e9a",
   "metadata": {},
   "outputs": [
    {
     "name": "stdout",
     "output_type": "stream",
     "text": [
      "python.py\n"
     ]
    }
   ],
   "source": [
    "a='python'+'.py'\n",
    "print(a)"
   ]
  },
  {
   "cell_type": "code",
   "execution_count": 30,
   "id": "188e3874-aa4c-4b5b-ab72-2391521461a4",
   "metadata": {},
   "outputs": [
    {
     "name": "stdout",
     "output_type": "stream",
     "text": [
      "True"
     ]
    },
    {
     "data": {
      "text/plain": [
       "46"
      ]
     },
     "execution_count": 30,
     "metadata": {},
     "output_type": "execute_result"
    }
   ],
   "source": [
    "print(str(True),end='')\n",
    "int('46')\n",
    "    "
   ]
  },
  {
   "cell_type": "code",
   "execution_count": 31,
   "id": "10729d8d-477c-4b1a-9b70-1068fd30d37f",
   "metadata": {},
   "outputs": [],
   "source": [
    "x=50\n",
    "def fun1():\n",
    "    x=25\n",
    "    print(x)\n",
    "    fun1()\n",
    "    print(x)"
   ]
  },
  {
   "cell_type": "code",
   "execution_count": 32,
   "id": "e92a3454-3580-4e79-bc95-0f838837946d",
   "metadata": {},
   "outputs": [
    {
     "name": "stdout",
     "output_type": "stream",
     "text": [
      "344\n"
     ]
    },
    {
     "ename": "UnboundLocalError",
     "evalue": "cannot access local variable 'x' where it is not associated with a value",
     "output_type": "error",
     "traceback": [
      "\u001b[1;31m---------------------------------------------------------------------------\u001b[0m",
      "\u001b[1;31mUnboundLocalError\u001b[0m                         Traceback (most recent call last)",
      "Cell \u001b[1;32mIn[32], line 5\u001b[0m\n\u001b[0;32m      3\u001b[0m   x\u001b[38;5;241m=\u001b[39mx\u001b[38;5;241m+\u001b[39m\u001b[38;5;241m1\u001b[39m\n\u001b[0;32m      4\u001b[0m \u001b[38;5;28mprint\u001b[39m(x)\n\u001b[1;32m----> 5\u001b[0m myfunction()\n\u001b[0;32m      6\u001b[0m \u001b[38;5;28mprint\u001b[39m(x)\n",
      "Cell \u001b[1;32mIn[32], line 3\u001b[0m, in \u001b[0;36mmyfunction\u001b[1;34m()\u001b[0m\n\u001b[0;32m      2\u001b[0m \u001b[38;5;28;01mdef\u001b[39;00m \u001b[38;5;21mmyfunction\u001b[39m():\n\u001b[1;32m----> 3\u001b[0m   x\u001b[38;5;241m=\u001b[39mx\u001b[38;5;241m+\u001b[39m\u001b[38;5;241m1\u001b[39m\n",
      "\u001b[1;31mUnboundLocalError\u001b[0m: cannot access local variable 'x' where it is not associated with a value"
     ]
    }
   ],
   "source": [
    "x=344\n",
    "def myfunction():\n",
    "  x=x+1\n",
    "print(x)\n",
    "myfunction()\n",
    "print(x)"
   ]
  },
  {
   "cell_type": "code",
   "execution_count": null,
   "id": "20c455cc-a24e-4bd6-8b10-1bbda3612ad2",
   "metadata": {},
   "outputs": [],
   "source": [
    "print(type(oxoFF))"
   ]
  },
  {
   "cell_type": "code",
   "execution_count": null,
   "id": "cc79e89c-99bb-49ce-aa9d-3c2be7979ebe",
   "metadata": {},
   "outputs": [],
   "source": [
    "def function1():\n",
    " x=50\n",
    " return x\n",
    " func1()\n",
    "print(x)"
   ]
  },
  {
   "cell_type": "code",
   "execution_count": null,
   "id": "f103bb9f-b541-49ba-a049-e0783ef00dc1",
   "metadata": {},
   "outputs": [],
   "source": [
    "print(type({}))"
   ]
  },
  {
   "cell_type": "code",
   "execution_count": 33,
   "id": "03b59a84-5218-4557-b2a6-2bc3d1c5b62f",
   "metadata": {},
   "outputs": [],
   "source": [
    "x=33\n",
    "def fun1():\n",
    "    y=x+7\n",
    "    fun1()\n",
    "    print(y)\n",
    "    print(x)"
   ]
  },
  {
   "cell_type": "code",
   "execution_count": null,
   "id": "bead0171-e546-4586-805f-04b13110b1f2",
   "metadata": {},
   "outputs": [],
   "source": [
    "str1='str1'"
   ]
  },
  {
   "cell_type": "code",
   "execution_count": null,
   "id": "57bc8a10-d9e9-4087-8ff8-78d301171513",
   "metadata": {},
   "outputs": [],
   "source": [
    "str1=\"str1\""
   ]
  },
  {
   "cell_type": "code",
   "execution_count": null,
   "id": "ae26ab25-cdc1-40e8-aa86-be9149f8a787",
   "metadata": {},
   "outputs": [],
   "source": [
    "type(range(5))"
   ]
  },
  {
   "cell_type": "code",
   "execution_count": null,
   "id": "78473158-b951-4535-a36b-e6672b47bdba",
   "metadata": {},
   "outputs": [],
   "source": [
    "print(type(12))"
   ]
  },
  {
   "cell_type": "code",
   "execution_count": null,
   "id": "3ec8309f-1f79-455d-8aec-39a38eccda21",
   "metadata": {},
   "outputs": [],
   "source": [
    "x=334.33\n",
    "print(type(x))"
   ]
  },
  {
   "cell_type": "code",
   "execution_count": null,
   "id": "50c42c4b-a90c-46d5-a2c3-6796fad67a3c",
   "metadata": {},
   "outputs": [],
   "source": [
    "x?"
   ]
  },
  {
   "cell_type": "code",
   "execution_count": null,
   "id": "cd7779a7-29be-4782-990c-f778058f34f8",
   "metadata": {},
   "outputs": [],
   "source": [
    "str?"
   ]
  },
  {
   "cell_type": "code",
   "execution_count": 34,
   "id": "08779e7d-2c5c-4756-bb8a-12d36425cecb",
   "metadata": {},
   "outputs": [
    {
     "name": "stdout",
     "output_type": "stream",
     "text": [
      "<class 'set'>\n"
     ]
    },
    {
     "data": {
      "text/plain": [
       "\u001b[1;31mType:\u001b[0m        set\n",
       "\u001b[1;31mString form:\u001b[0m {'apple', 'guavava', 'banana'}\n",
       "\u001b[1;31mLength:\u001b[0m      3\n",
       "\u001b[1;31mDocstring:\u001b[0m  \n",
       "set() -> new empty set object\n",
       "set(iterable) -> new set object\n",
       "\n",
       "Build an unordered collection of unique elements."
      ]
     },
     "metadata": {},
     "output_type": "display_data"
    }
   ],
   "source": [
    "x={'apple','banana','guavava'}\n",
    "print(type(x))\n",
    "x?"
   ]
  },
  {
   "cell_type": "code",
   "execution_count": null,
   "id": "836b8148-d1a8-4424-af19-d65da6f12bc1",
   "metadata": {},
   "outputs": [],
   "source": [
    "x={\"name\":\"zama\",\"age\":23}\n",
    "print(type(x))\n",
    "x?"
   ]
  },
  {
   "cell_type": "code",
   "execution_count": null,
   "id": "9e24d97a-3c23-4c13-bcc3-c03bc41f5573",
   "metadata": {},
   "outputs": [],
   "source": [
    "x=True\n",
    "x?"
   ]
  },
  {
   "cell_type": "code",
   "execution_count": 35,
   "id": "29f199b6-ec4a-4c51-82e6-03d2ce36cd8a",
   "metadata": {},
   "outputs": [
    {
     "name": "stdout",
     "output_type": "stream",
     "text": [
      "<class 'list'>\n"
     ]
    }
   ],
   "source": [
    "x=[53,64,64,77,74,4]\n",
    "print(type(x))"
   ]
  },
  {
   "cell_type": "code",
   "execution_count": null,
   "id": "5f86128c-71e7-4f7c-bfdf-f786ea2f483f",
   "metadata": {},
   "outputs": [],
   "source": [
    "x?"
   ]
  },
  {
   "cell_type": "code",
   "execution_count": null,
   "id": "f09a9a1c-c714-48a7-81af-fd97f0630229",
   "metadata": {},
   "outputs": [],
   "source": []
  },
  {
   "cell_type": "code",
   "execution_count": 36,
   "id": "e89d209a-696c-4bbc-8a13-bb33ca9cab55",
   "metadata": {},
   "outputs": [
    {
     "name": "stdout",
     "output_type": "stream",
     "text": [
      "[42, 54, 67, 55]\n"
     ]
    }
   ],
   "source": [
    "x=[42,54,67,55]\n",
    "y=x.copy()\n",
    "x.append(4444)\n",
    "print(y)"
   ]
  },
  {
   "cell_type": "code",
   "execution_count": null,
   "id": "3883f4dc-9e47-424f-93bc-064ff6c06a58",
   "metadata": {},
   "outputs": [],
   "source": [
    "x={'a','b','c'}\n",
    "y={'m','n','o'}\n",
    "z=x & y\n",
    "print(z)\n",
    "z?"
   ]
  },
  {
   "cell_type": "code",
   "execution_count": null,
   "id": "4db4ca6b-7807-4805-babe-2a7958385fea",
   "metadata": {},
   "outputs": [],
   "source": [
    "x=534\n",
    "y=5455\n",
    "x,y=y,x\n",
    "print(x,y)"
   ]
  },
  {
   "cell_type": "code",
   "execution_count": null,
   "id": "3fe120b7-aa22-4072-96c1-c18ad0e6351d",
   "metadata": {},
   "outputs": [],
   "source": [
    "x={'a':22,'b':4,'c':7}\n",
    "y={'c':6,'n':33,'v':3434}\n",
    "z={**x,**y}\n",
    "print(z)"
   ]
  },
  {
   "cell_type": "code",
   "execution_count": null,
   "id": "7f715598-16d1-4a61-abb1-47fc8fd0e467",
   "metadata": {},
   "outputs": [],
   "source": [
    "z?"
   ]
  },
  {
   "cell_type": "code",
   "execution_count": null,
   "id": "fff24b34-4a0c-440b-a965-5a026ac6c66a",
   "metadata": {},
   "outputs": [],
   "source": [
    "x={4,53,63,633,6346}\n",
    "x.clear()\n",
    "print(x)\n",
    "x?"
   ]
  },
  {
   "cell_type": "code",
   "execution_count": null,
   "id": "125b2cd2-554c-4591-906c-ff791eaeb399",
   "metadata": {},
   "outputs": [],
   "source": [
    "x=True\n",
    "y=False\n",
    "x?\n",
    "y?"
   ]
  },
  {
   "cell_type": "code",
   "execution_count": 37,
   "id": "5add9bf8-216a-447d-86cc-d3fc8320119e",
   "metadata": {},
   "outputs": [
    {
     "name": "stdout",
     "output_type": "stream",
     "text": [
      "hello\n",
      "HELLO\n"
     ]
    }
   ],
   "source": [
    "x=\"hello\"\n",
    "y=x.upper()\n",
    "z=x.lower()\n",
    "print(z)\n",
    "print(y)"
   ]
  },
  {
   "cell_type": "code",
   "execution_count": 38,
   "id": "33103c42-666f-4584-a1e1-95be1638f98e",
   "metadata": {},
   "outputs": [
    {
     "ename": "TypeError",
     "evalue": "'str' object cannot be interpreted as an integer",
     "output_type": "error",
     "traceback": [
      "\u001b[1;31m---------------------------------------------------------------------------\u001b[0m",
      "\u001b[1;31mTypeError\u001b[0m                                 Traceback (most recent call last)",
      "Cell \u001b[1;32mIn[38], line 2\u001b[0m\n\u001b[0;32m      1\u001b[0m m\u001b[38;5;241m=\u001b[39m\u001b[38;5;124m'\u001b[39m\u001b[38;5;124mhello\u001b[39m\u001b[38;5;124m'\u001b[39m\n\u001b[1;32m----> 2\u001b[0m y\u001b[38;5;241m=\u001b[39mm\u001b[38;5;241m.\u001b[39mreplace(\u001b[38;5;124m'\u001b[39m\u001b[38;5;124ml\u001b[39m\u001b[38;5;124m'\u001b[39m,\u001b[38;5;124m'\u001b[39m\u001b[38;5;124mL\u001b[39m\u001b[38;5;124m'\u001b[39m,\u001b[38;5;124m'\u001b[39m\u001b[38;5;124m1\u001b[39m\u001b[38;5;124m'\u001b[39m)\n\u001b[0;32m      3\u001b[0m \u001b[38;5;28mprint\u001b[39m(y)\n",
      "\u001b[1;31mTypeError\u001b[0m: 'str' object cannot be interpreted as an integer"
     ]
    }
   ],
   "source": [
    "m='hello'\n",
    "y=m.replace('l','L','1')\n",
    "print(y)"
   ]
  },
  {
   "cell_type": "code",
   "execution_count": 39,
   "id": "383827c1-0382-497b-9fe9-b4444255fe37",
   "metadata": {},
   "outputs": [
    {
     "name": "stdout",
     "output_type": "stream",
     "text": [
      "(1, 2, [20, 8, 9, 6])\n"
     ]
    }
   ],
   "source": [
    "x=(1,2,[4,8,9,6])\n",
    "x[2][0]=20\n",
    "print(x)"
   ]
  },
  {
   "cell_type": "code",
   "execution_count": 40,
   "id": "46859e6b-dab7-4619-a6fc-d5da35599cf0",
   "metadata": {},
   "outputs": [
    {
     "name": "stdout",
     "output_type": "stream",
     "text": [
      "[3, 5, 7, 85, 856, 86, 53, 55]\n"
     ]
    }
   ],
   "source": [
    "x=[3,5,7,85,856,86,53,55]\n",
    "y=x[::]\n",
    "x=[0]\n",
    "print(y)"
   ]
  },
  {
   "cell_type": "code",
   "execution_count": null,
   "id": "7caaa12f-ed20-4e52-9a27-2fe8e857a8fc",
   "metadata": {},
   "outputs": [],
   "source": [
    "x={'name':'ali','age':0.8}\n",
    "y=x.copy()\n",
    "x['nmae']='zakriya'\n",
    "print(x['name'])\n"
   ]
  },
  {
   "cell_type": "code",
   "execution_count": null,
   "id": "de07272c-a659-4d51-8b20-320c971e5795",
   "metadata": {},
   "outputs": [],
   "source": [
    "x={'apple','grapes'}\n",
    "y=x.pop()\n",
    "z=x.pop()\n",
    "print(y)\n",
    "print(z)"
   ]
  },
  {
   "cell_type": "code",
   "execution_count": null,
   "id": "6be9b995-3409-4830-af0f-fbde91f8bdf8",
   "metadata": {},
   "outputs": [],
   "source": [
    "x=[33,54,746,86,967,44,677]\n",
    "x.insert(464,89)\n",
    "print(x)"
   ]
  },
  {
   "cell_type": "code",
   "execution_count": null,
   "id": "54c6abe6-8c5f-4182-8713-669febc2ff36",
   "metadata": {},
   "outputs": [],
   "source": [
    "x={'a','b','c'}\n",
    "y=x.add('p')\n",
    "print(x)"
   ]
  },
  {
   "cell_type": "code",
   "execution_count": null,
   "id": "53ea8458-8f2a-4996-bd48-f1fa911538d9",
   "metadata": {},
   "outputs": [],
   "source": [
    "x=[4,64,756]\n",
    "x?"
   ]
  },
  {
   "cell_type": "code",
   "execution_count": 41,
   "id": "fab02f08-3f4c-473d-afb1-d11310441c90",
   "metadata": {},
   "outputs": [
    {
     "data": {
      "text/plain": [
       "11"
      ]
     },
     "execution_count": 41,
     "metadata": {},
     "output_type": "execute_result"
    }
   ],
   "source": [
    "int(11.3)"
   ]
  },
  {
   "cell_type": "code",
   "execution_count": 42,
   "id": "1ad82f77-46cc-4c36-ac07-dd446cab5cc2",
   "metadata": {},
   "outputs": [
    {
     "ename": "SyntaxError",
     "evalue": "invalid syntax (2310727208.py, line 1)",
     "output_type": "error",
     "traceback": [
      "\u001b[1;36m  Cell \u001b[1;32mIn[42], line 1\u001b[1;36m\u001b[0m\n\u001b[1;33m    string'22'\u001b[0m\n\u001b[1;37m          ^\u001b[0m\n\u001b[1;31mSyntaxError\u001b[0m\u001b[1;31m:\u001b[0m invalid syntax\n"
     ]
    }
   ],
   "source": [
    "string'22'\n"
   ]
  },
  {
   "cell_type": "code",
   "execution_count": 44,
   "id": "bbe832e2-9f8f-4054-92bf-f44e2a778e9c",
   "metadata": {},
   "outputs": [
    {
     "ename": "NameError",
     "evalue": "name 'dtype' is not defined",
     "output_type": "error",
     "traceback": [
      "\u001b[1;31m---------------------------------------------------------------------------\u001b[0m",
      "\u001b[1;31mNameError\u001b[0m                                 Traceback (most recent call last)",
      "Cell \u001b[1;32mIn[44], line 3\u001b[0m\n\u001b[0;32m      1\u001b[0m \u001b[38;5;28;01mimport\u001b[39;00m \u001b[38;5;21;01mnumpy\u001b[39;00m \u001b[38;5;28;01mas\u001b[39;00m \u001b[38;5;21;01mnp\u001b[39;00m\n\u001b[0;32m      2\u001b[0m np\u001b[38;5;241m.\u001b[39mnan\n\u001b[1;32m----> 3\u001b[0m dtype(np)\n",
      "\u001b[1;31mNameError\u001b[0m: name 'dtype' is not defined"
     ]
    }
   ],
   "source": [
    "import numpy as np\n",
    "np.nan\n",
    "dtype(np)"
   ]
  },
  {
   "cell_type": "code",
   "execution_count": 45,
   "id": "91d0403c-2a87-4383-b365-5bde82e266fe",
   "metadata": {},
   "outputs": [
    {
     "name": "stdout",
     "output_type": "stream",
     "text": [
      "2\n"
     ]
    }
   ],
   "source": [
    "print(True*2)"
   ]
  },
  {
   "cell_type": "code",
   "execution_count": 47,
   "id": "db073682-6271-42af-aa3f-fdac2aad7c81",
   "metadata": {},
   "outputs": [],
   "source": [
    "obj_data = ( )"
   ]
  },
  {
   "cell_type": "code",
   "execution_count": null,
   "id": "b0ad6f6e-d511-460e-b91d-d5af9cb1c686",
   "metadata": {},
   "outputs": [],
   "source": []
  }
 ],
 "metadata": {
  "kernelspec": {
   "display_name": "Python 3 (ipykernel)",
   "language": "python",
   "name": "python3"
  },
  "language_info": {
   "codemirror_mode": {
    "name": "ipython",
    "version": 3
   },
   "file_extension": ".py",
   "mimetype": "text/x-python",
   "name": "python",
   "nbconvert_exporter": "python",
   "pygments_lexer": "ipython3",
   "version": "3.11.5"
  },
  "widgets": {
   "application/vnd.jupyter.widget-state+json": {
    "state": {},
    "version_major": 2,
    "version_minor": 0
   }
  }
 },
 "nbformat": 4,
 "nbformat_minor": 5
}
