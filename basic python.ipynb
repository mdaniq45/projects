{
 "cells": [
  {
   "cell_type": "code",
   "execution_count": 21,
   "id": "69183352-50a3-4de0-90f0-06444bcdd24d",
   "metadata": {},
   "outputs": [
    {
     "name": "stdout",
     "output_type": "stream",
     "text": [
      "5\n",
      "5\n"
     ]
    }
   ],
   "source": [
    "a=6\n",
    "b=5\n",
    "a=b\n",
    "b=a\n",
    "print(a)\n",
    "print(b)"
   ]
  },
  {
   "cell_type": "code",
   "execution_count": 22,
   "id": "9717b2d4-7849-4063-acbb-3084871cd087",
   "metadata": {},
   "outputs": [],
   "source": [
    "a1=7\n",
    "b1=9"
   ]
  },
  {
   "cell_type": "code",
   "execution_count": 23,
   "id": "90fd8283-53d0-4c43-91d6-fd2a602e0ff6",
   "metadata": {},
   "outputs": [
    {
     "data": {
      "text/plain": [
       "7"
      ]
     },
     "execution_count": 23,
     "metadata": {},
     "output_type": "execute_result"
    }
   ],
   "source": [
    "a1=7\n",
    "temp=a1\n",
    "b1=temp\n",
    "temp"
   ]
  },
  {
   "cell_type": "code",
   "execution_count": 29,
   "id": "83d9ad98-4090-4230-a8af-4f23109f04c3",
   "metadata": {},
   "outputs": [
    {
     "name": "stdout",
     "output_type": "stream",
     "text": [
      "7\n"
     ]
    }
   ],
   "source": [
    "if a==a1:\n",
    "    print('2')\n",
    "else:\n",
    "    print(a1)"
   ]
  },
  {
   "cell_type": "code",
   "execution_count": 30,
   "id": "0cb49c0e-4d88-4475-b8cb-c1d2d0ecc303",
   "metadata": {},
   "outputs": [
    {
     "data": {
      "text/plain": [
       "12"
      ]
     },
     "execution_count": 30,
     "metadata": {},
     "output_type": "execute_result"
    }
   ],
   "source": [
    "12&13"
   ]
  },
  {
   "cell_type": "markdown",
   "id": "8ebfee52-7e23-492b-81b1-ce14ce583415",
   "metadata": {},
   "source": [
    "#### "
   ]
  },
  {
   "cell_type": "code",
   "execution_count": 31,
   "id": "e0bc4f21-df95-425b-8f32-40d378638e4d",
   "metadata": {},
   "outputs": [
    {
     "data": {
      "text/plain": [
       "0"
      ]
     },
     "execution_count": 31,
     "metadata": {},
     "output_type": "execute_result"
    }
   ],
   "source": [
    "1&0"
   ]
  },
  {
   "cell_type": "code",
   "execution_count": 32,
   "id": "fd04e944-31cc-48f7-8336-f46834ce68ed",
   "metadata": {},
   "outputs": [
    {
     "data": {
      "text/plain": [
       "1"
      ]
     },
     "execution_count": 32,
     "metadata": {},
     "output_type": "execute_result"
    }
   ],
   "source": [
    "1&1"
   ]
  },
  {
   "cell_type": "code",
   "execution_count": null,
   "id": "2caf7268-4cde-4c80-886c-0b459bddaa2b",
   "metadata": {},
   "outputs": [],
   "source": [
    "35&40"
   ]
  },
  {
   "cell_type": "code",
   "execution_count": null,
   "id": "3bf43a09-ffd2-4b43-80b8-bb2c42b84fab",
   "metadata": {},
   "outputs": [],
   "source": [
    "#help(35|40)"
   ]
  },
  {
   "cell_type": "code",
   "execution_count": 38,
   "id": "a18285d3-f6fa-41bf-bb9d-3bb996584de7",
   "metadata": {},
   "outputs": [
    {
     "data": {
      "text/plain": [
       "1"
      ]
     },
     "execution_count": 38,
     "metadata": {},
     "output_type": "execute_result"
    }
   ],
   "source": [
    "12^13"
   ]
  },
  {
   "cell_type": "code",
   "execution_count": 39,
   "id": "82926667-a013-4175-9271-26a4cb048d2f",
   "metadata": {},
   "outputs": [
    {
     "data": {
      "text/plain": [
       "2"
      ]
     },
     "execution_count": 39,
     "metadata": {},
     "output_type": "execute_result"
    }
   ],
   "source": [
    "12^14"
   ]
  },
  {
   "cell_type": "code",
   "execution_count": 40,
   "id": "875df698-15d4-46bd-879b-d090fe06a806",
   "metadata": {},
   "outputs": [
    {
     "data": {
      "text/plain": [
       "28"
      ]
     },
     "execution_count": 40,
     "metadata": {},
     "output_type": "execute_result"
    }
   ],
   "source": [
    "12^16"
   ]
  },
  {
   "cell_type": "code",
   "execution_count": 41,
   "id": "311d3e48-382f-449d-8539-1f8d489f03f0",
   "metadata": {},
   "outputs": [
    {
     "data": {
      "text/plain": [
       "7"
      ]
     },
     "execution_count": 41,
     "metadata": {},
     "output_type": "execute_result"
    }
   ],
   "source": [
    "25^30"
   ]
  },
  {
   "cell_type": "code",
   "execution_count": 42,
   "id": "30601178-30f3-4795-8fcc-5e6bdc7fa6a1",
   "metadata": {},
   "outputs": [
    {
     "data": {
      "text/plain": [
       "98304"
      ]
     },
     "execution_count": 42,
     "metadata": {},
     "output_type": "execute_result"
    }
   ],
   "source": [
    "12<<13"
   ]
  },
  {
   "cell_type": "code",
   "execution_count": null,
   "id": "1957908b-f722-401f-8698-00ad47c5d79d",
   "metadata": {},
   "outputs": [],
   "source": []
  },
  {
   "cell_type": "code",
   "execution_count": 12,
   "id": "feee940e-a082-4c97-8f43-40a67d9b31d6",
   "metadata": {},
   "outputs": [
    {
     "data": {
      "text/plain": [
       "5.0"
      ]
     },
     "execution_count": 12,
     "metadata": {},
     "output_type": "execute_result"
    }
   ],
   "source": [
    "import math as m\n",
    "a=math.sqrt(25)\n",
    "a"
   ]
  },
  {
   "cell_type": "code",
   "execution_count": 15,
   "id": "ab77e9a1-41cf-4a12-95eb-f570dd730227",
   "metadata": {},
   "outputs": [
    {
     "data": {
      "text/plain": [
       "6.6332495807108"
      ]
     },
     "execution_count": 15,
     "metadata": {},
     "output_type": "execute_result"
    }
   ],
   "source": [
    "m.sqrt(44)"
   ]
  },
  {
   "cell_type": "code",
   "execution_count": 17,
   "id": "c288ff62-e569-428b-90f7-0ea31e82a122",
   "metadata": {},
   "outputs": [
    {
     "data": {
      "text/plain": [
       "5.830951894845301"
      ]
     },
     "execution_count": 17,
     "metadata": {},
     "output_type": "execute_result"
    }
   ],
   "source": [
    "m.sqrt(34)"
   ]
  },
  {
   "cell_type": "code",
   "execution_count": 20,
   "id": "ea46e118-6651-4750-9d1b-985b9a132d17",
   "metadata": {},
   "outputs": [
    {
     "data": {
      "text/plain": [
       "21.071307505705477"
      ]
     },
     "execution_count": 20,
     "metadata": {},
     "output_type": "execute_result"
    }
   ],
   "source": [
    "m.sqrt(int(444))"
   ]
  },
  {
   "cell_type": "code",
   "execution_count": null,
   "id": "c3b6a33d-a0c4-4956-8820-6ff6df4bdaba",
   "metadata": {},
   "outputs": [
    {
     "name": "stdin",
     "output_type": "stream",
     "text": [
      " 6\n"
     ]
    }
   ],
   "source": [
    "x=input()\n",
    "y=input()\n",
    "help->(q)"
   ]
  },
  {
   "cell_type": "code",
   "execution_count": null,
   "id": "44b81fec-58d1-4983-9ca1-9f37dd3c007f",
   "metadata": {},
   "outputs": [],
   "source": []
  }
 ],
 "metadata": {
  "kernelspec": {
   "display_name": "Python 3 (ipykernel)",
   "language": "python",
   "name": "python3"
  },
  "language_info": {
   "codemirror_mode": {
    "name": "ipython",
    "version": 3
   },
   "file_extension": ".py",
   "mimetype": "text/x-python",
   "name": "python",
   "nbconvert_exporter": "python",
   "pygments_lexer": "ipython3",
   "version": "3.11.5"
  },
  "widgets": {
   "application/vnd.jupyter.widget-state+json": {
    "state": {},
    "version_major": 2,
    "version_minor": 0
   }
  }
 },
 "nbformat": 4,
 "nbformat_minor": 5
}
