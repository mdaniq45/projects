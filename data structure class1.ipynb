{
 "cells": [
  {
   "cell_type": "markdown",
   "id": "694b55c9-f4c9-4ef3-8b5b-3d7a7ae48bad",
   "metadata": {},
   "source": [
    "# set "
   ]
  },
  {
   "cell_type": "code",
   "execution_count": 19,
   "id": "ebf52b6c-75cb-4945-8e42-da6252e481cf",
   "metadata": {},
   "outputs": [
    {
     "data": {
      "text/plain": [
       "{}"
      ]
     },
     "execution_count": 19,
     "metadata": {},
     "output_type": "execute_result"
    }
   ],
   "source": [
    "s={}\n",
    "s"
   ]
  },
  {
   "cell_type": "code",
   "execution_count": 44,
   "id": "6a69eede-45c9-4398-8a30-07928a9941bf",
   "metadata": {},
   "outputs": [
    {
     "data": {
      "text/plain": [
       "{12, 23, 34, 35, 44, 46, 55, 77}"
      ]
     },
     "execution_count": 44,
     "metadata": {},
     "output_type": "execute_result"
    }
   ],
   "source": [
    "s"
   ]
  },
  {
   "cell_type": "code",
   "execution_count": 21,
   "id": "548f9966-135a-47f0-8dcb-5d76423f6620",
   "metadata": {},
   "outputs": [],
   "source": [
    "s=set()"
   ]
  },
  {
   "cell_type": "code",
   "execution_count": 22,
   "id": "3aedbff8-e00d-42a8-b221-257884e29f1c",
   "metadata": {},
   "outputs": [
    {
     "data": {
      "text/plain": [
       "set"
      ]
     },
     "execution_count": 22,
     "metadata": {},
     "output_type": "execute_result"
    }
   ],
   "source": [
    "type(s)"
   ]
  },
  {
   "cell_type": "code",
   "execution_count": 23,
   "id": "907fbdd6-a14d-4f81-9c6e-c75f2dfe9ad6",
   "metadata": {},
   "outputs": [],
   "source": [
    "s.add(12)"
   ]
  },
  {
   "cell_type": "code",
   "execution_count": 24,
   "id": "217e7995-a551-4bc5-b662-8e208decb6ad",
   "metadata": {},
   "outputs": [
    {
     "data": {
      "text/plain": [
       "{12}"
      ]
     },
     "execution_count": 24,
     "metadata": {},
     "output_type": "execute_result"
    }
   ],
   "source": [
    "s"
   ]
  },
  {
   "cell_type": "code",
   "execution_count": 25,
   "id": "67eb94fe-c02b-4259-8ebb-3e0477b3b673",
   "metadata": {},
   "outputs": [],
   "source": [
    "s.add(34)"
   ]
  },
  {
   "cell_type": "code",
   "execution_count": 26,
   "id": "88fe18fc-7889-4c44-a20f-0a7c6de66dd4",
   "metadata": {},
   "outputs": [
    {
     "data": {
      "text/plain": [
       "{12, 34}"
      ]
     },
     "execution_count": 26,
     "metadata": {},
     "output_type": "execute_result"
    }
   ],
   "source": [
    "s"
   ]
  },
  {
   "cell_type": "code",
   "execution_count": 27,
   "id": "ecdab8a8-2a64-4c05-b18e-764316c8c555",
   "metadata": {},
   "outputs": [],
   "source": [
    "s.add(23)"
   ]
  },
  {
   "cell_type": "code",
   "execution_count": 28,
   "id": "0f4bd03f-3c4b-4717-94dc-4fa7980e1df2",
   "metadata": {},
   "outputs": [],
   "source": [
    "s.add(35)\n",
    "s.add(55)\n",
    "s.add(77)\n",
    "s.add(46)"
   ]
  },
  {
   "cell_type": "code",
   "execution_count": 29,
   "id": "23023da7-ed63-4176-a2bd-1ab929a0a52d",
   "metadata": {},
   "outputs": [
    {
     "data": {
      "text/plain": [
       "{12, 23, 34, 35, 46, 55, 77}"
      ]
     },
     "execution_count": 29,
     "metadata": {},
     "output_type": "execute_result"
    }
   ],
   "source": [
    "s"
   ]
  },
  {
   "cell_type": "code",
   "execution_count": 30,
   "id": "c17a4fa0-c770-4cfd-b834-994ef3f02985",
   "metadata": {},
   "outputs": [
    {
     "data": {
      "text/plain": [
       "7"
      ]
     },
     "execution_count": 30,
     "metadata": {},
     "output_type": "execute_result"
    }
   ],
   "source": [
    "len(s)"
   ]
  },
  {
   "cell_type": "code",
   "execution_count": 31,
   "id": "060e4ef5-5711-47b1-8434-0a5bcecf458c",
   "metadata": {},
   "outputs": [
    {
     "data": {
      "text/plain": [
       "{12, 23, 34, 35, 46, 55, 77}"
      ]
     },
     "execution_count": 31,
     "metadata": {},
     "output_type": "execute_result"
    }
   ],
   "source": [
    "s.add(23)\n",
    "s"
   ]
  },
  {
   "cell_type": "code",
   "execution_count": 32,
   "id": "a1a0c903-cc7a-41b9-928f-301541933cbd",
   "metadata": {},
   "outputs": [],
   "source": [
    "s.add(44)\n",
    "s1=set()\n",
    "s1.add('ali')\n",
    "s1.add(66.5)\n",
    "s1.add(4+5J)\n"
   ]
  },
  {
   "cell_type": "code",
   "execution_count": 33,
   "id": "a355d3ea-dfd8-40a8-b322-6ed8f2710a81",
   "metadata": {},
   "outputs": [],
   "source": [
    "s1.add(True)"
   ]
  },
  {
   "cell_type": "code",
   "execution_count": 34,
   "id": "71e29568-8c85-4441-bb55-25cfaeca068a",
   "metadata": {},
   "outputs": [
    {
     "data": {
      "text/plain": [
       "({(4+5j), 66.5, True, 'ali'}, {12, 23, 34, 35, 44, 46, 55, 77})"
      ]
     },
     "execution_count": 34,
     "metadata": {},
     "output_type": "execute_result"
    }
   ],
   "source": [
    "s1,s"
   ]
  },
  {
   "cell_type": "markdown",
   "id": "490d0a55-6d7c-4be5-a6d7-ffdbee177957",
   "metadata": {},
   "source": [
    "s2=s.copy()"
   ]
  },
  {
   "cell_type": "code",
   "execution_count": 35,
   "id": "4f91a3b9-b4c4-4ed2-be1d-13dfa8bee264",
   "metadata": {},
   "outputs": [],
   "source": [
    "s3=s.copy()"
   ]
  },
  {
   "cell_type": "code",
   "execution_count": 36,
   "id": "64f64e62-bac5-4f07-a927-bfc0c1e94f78",
   "metadata": {},
   "outputs": [
    {
     "data": {
      "text/plain": [
       "{12, 23, 34, 35, 44, 46, 55, 77}"
      ]
     },
     "execution_count": 36,
     "metadata": {},
     "output_type": "execute_result"
    }
   ],
   "source": [
    "s3"
   ]
  },
  {
   "cell_type": "code",
   "execution_count": 37,
   "id": "43bc1a4b-3a3f-4f9e-97d6-3c580c885628",
   "metadata": {},
   "outputs": [],
   "source": [
    "s3.add(33)\n",
    "s3.add(43)\n",
    "s3.add(334)"
   ]
  },
  {
   "cell_type": "code",
   "execution_count": 38,
   "id": "940303bc-2271-4a0c-b116-480dd90990b7",
   "metadata": {},
   "outputs": [
    {
     "data": {
      "text/plain": [
       "{12, 23, 33, 34, 35, 43, 44, 46, 55, 77, 334}"
      ]
     },
     "execution_count": 38,
     "metadata": {},
     "output_type": "execute_result"
    }
   ],
   "source": [
    "s3"
   ]
  },
  {
   "cell_type": "code",
   "execution_count": 39,
   "id": "804994d8-e98b-43bb-957d-baa15bf7bbb2",
   "metadata": {},
   "outputs": [],
   "source": [
    "s3.clear()"
   ]
  },
  {
   "cell_type": "code",
   "execution_count": 40,
   "id": "41a1f32e-2c79-4261-b367-5e2e6d180a83",
   "metadata": {},
   "outputs": [
    {
     "data": {
      "text/plain": [
       "set()"
      ]
     },
     "execution_count": 40,
     "metadata": {},
     "output_type": "execute_result"
    }
   ],
   "source": [
    "s3"
   ]
  },
  {
   "cell_type": "code",
   "execution_count": 41,
   "id": "d235ea01-e19c-40b8-8fe1-ca83ebed9d6e",
   "metadata": {},
   "outputs": [
    {
     "data": {
      "text/plain": [
       "0"
      ]
     },
     "execution_count": 41,
     "metadata": {},
     "output_type": "execute_result"
    }
   ],
   "source": [
    "len(s3)"
   ]
  },
  {
   "cell_type": "markdown",
   "id": "8de6e728-01c1-4a62-b396-c8c4f78575fd",
   "metadata": {},
   "source": [
    "s2.pop"
   ]
  },
  {
   "cell_type": "code",
   "execution_count": 43,
   "id": "9a8669be-4d87-4e7c-acdf-4771c379de8d",
   "metadata": {},
   "outputs": [],
   "source": [
    "#s2.pop()"
   ]
  },
  {
   "cell_type": "code",
   "execution_count": null,
   "id": "e44976df-bac9-4d12-844e-c598c15431fb",
   "metadata": {},
   "outputs": [],
   "source": [
    "s1.pop()"
   ]
  },
  {
   "cell_type": "code",
   "execution_count": null,
   "id": "7c3aa20d-2556-4d6c-bbcc-2c2db73d7b14",
   "metadata": {},
   "outputs": [],
   "source": [
    "s1.remove(4+5J)"
   ]
  },
  {
   "cell_type": "code",
   "execution_count": null,
   "id": "0140de4e-74a3-4c47-b488-f81085e3ea3a",
   "metadata": {},
   "outputs": [],
   "source": [
    "s1"
   ]
  },
  {
   "cell_type": "code",
   "execution_count": null,
   "id": "3f213d04-f96f-41ea-a04f-31bc131e9dae",
   "metadata": {},
   "outputs": [],
   "source": [
    "\n",
    "s1.descard(55)\n",
    "s1"
   ]
  },
  {
   "cell_type": "code",
   "execution_count": null,
   "id": "f705e94b-34d2-43d6-a59a-7396219d1451",
   "metadata": {},
   "outputs": [],
   "source": [
    "s3.remove"
   ]
  },
  {
   "cell_type": "code",
   "execution_count": null,
   "id": "6c0340a9-7334-4542-b694-1eaa6b291ff8",
   "metadata": {},
   "outputs": [],
   "source": [
    "for i in  s,s2,s3:\n",
    "    print(i)"
   ]
  },
  {
   "cell_type": "code",
   "execution_count": null,
   "id": "258d723c-54be-446e-8101-96692d98e917",
   "metadata": {},
   "outputs": [],
   "source": [
    "s.remove"
   ]
  },
  {
   "cell_type": "code",
   "execution_count": null,
   "id": "a9d13156-f3d0-462a-8b77-30a606e778ab",
   "metadata": {},
   "outputs": [],
   "source": [
    "s.update()"
   ]
  },
  {
   "cell_type": "code",
   "execution_count": null,
   "id": "480ebed9-c3eb-4563-846c-6c0fc196b2ec",
   "metadata": {},
   "outputs": [],
   "source": [
    "a={1,2,4,5,6}\n",
    "b={1,3,5,7,6}\n",
    "c={3,7,23,58,19}\n",
    "a.union(b)"
   ]
  },
  {
   "cell_type": "code",
   "execution_count": null,
   "id": "dfe0a49d-f706-453f-8d1b-7fc54baee351",
   "metadata": {},
   "outputs": [],
   "source": [
    "a.intersection(c)\n",
    "\n"
   ]
  },
  {
   "cell_type": "code",
   "execution_count": null,
   "id": "dd5a0481-0b71-43e9-b8bd-f94516b63699",
   "metadata": {},
   "outputs": [],
   "source": [
    "a&b"
   ]
  },
  {
   "cell_type": "code",
   "execution_count": null,
   "id": "58c626ad-7446-4f7a-b6b1-bd66f1594d66",
   "metadata": {},
   "outputs": [],
   "source": [
    "b.union(c)"
   ]
  },
  {
   "cell_type": "code",
   "execution_count": null,
   "id": "76450df3-8331-4b7e-a95a-7e8800c911af",
   "metadata": {},
   "outputs": [],
   "source": [
    "a.union(b).union(c)"
   ]
  },
  {
   "cell_type": "code",
   "execution_count": null,
   "id": "9da1fbe0-e85e-4ea0-ac36-fdd45916609b",
   "metadata": {},
   "outputs": [],
   "source": [
    "a|b|c"
   ]
  },
  {
   "cell_type": "code",
   "execution_count": null,
   "id": "1334c00f-045e-4209-8ef8-eba50e483f91",
   "metadata": {},
   "outputs": [],
   "source": [
    "a.intersection(b).intersection(c)"
   ]
  },
  {
   "cell_type": "code",
   "execution_count": null,
   "id": "641e2428-0762-448c-90d3-83f9d7bf1d95",
   "metadata": {},
   "outputs": [],
   "source": [
    "a.intersection(c)"
   ]
  },
  {
   "cell_type": "code",
   "execution_count": null,
   "id": "73a271cc-cfd3-44e8-a9f0-e0853a38f718",
   "metadata": {},
   "outputs": [],
   "source": [
    "b.intersection(c)"
   ]
  },
  {
   "cell_type": "code",
   "execution_count": null,
   "id": "7cbbc249-7284-45da-bbe9-149aa04abaab",
   "metadata": {},
   "outputs": [],
   "source": [
    "b&c"
   ]
  },
  {
   "cell_type": "code",
   "execution_count": null,
   "id": "a6ba99af-f845-4a79-8d61-56e98b0de9f8",
   "metadata": {},
   "outputs": [],
   "source": [
    "a"
   ]
  },
  {
   "cell_type": "code",
   "execution_count": null,
   "id": "96bd3d2c-a7a1-4a9f-aeed-792236f8c597",
   "metadata": {},
   "outputs": [],
   "source": [
    "a-b"
   ]
  },
  {
   "cell_type": "code",
   "execution_count": null,
   "id": "1d930f83-1948-4a52-9e63-dc0dc3477593",
   "metadata": {},
   "outputs": [],
   "source": [
    "b-c"
   ]
  },
  {
   "cell_type": "code",
   "execution_count": null,
   "id": "305f594d-835b-4117-af03-494b7e940de0",
   "metadata": {},
   "outputs": [],
   "source": [
    "a-b-c"
   ]
  },
  {
   "cell_type": "code",
   "execution_count": null,
   "id": "4afa0d0e-f531-458f-8c60-449942803f63",
   "metadata": {},
   "outputs": [],
   "source": [
    "a+b\n"
   ]
  },
  {
   "cell_type": "code",
   "execution_count": null,
   "id": "7102510d-8a7d-4e75-bb59-6e02d70ab435",
   "metadata": {},
   "outputs": [],
   "source": [
    "a.symmetric_difference(b)"
   ]
  },
  {
   "cell_type": "code",
   "execution_count": null,
   "id": "531a7ff3-8dbe-43c4-a9c9-11b066008d2f",
   "metadata": {},
   "outputs": [],
   "source": [
    "b.symmetric_difference(c)"
   ]
  },
  {
   "cell_type": "code",
   "execution_count": null,
   "id": "698e39fa-45af-4fe4-824d-6dd32d2ad34d",
   "metadata": {},
   "outputs": [],
   "source": [
    "a1={1,2,3,4,5,6}\n",
    "b1={4,5,6,7,8,9,10}\n",
    "c1={7,8,9,5,10,11,12,13}\n",
    "b1.union(c1)"
   ]
  },
  {
   "cell_type": "code",
   "execution_count": null,
   "id": "080d966e-ba02-4a27-8dc7-508edf343d11",
   "metadata": {},
   "outputs": [],
   "source": [
    "a1.issubset(b1)"
   ]
  },
  {
   "cell_type": "code",
   "execution_count": null,
   "id": "d7d66cee-0cab-4940-8fdc-8b4f7c504af0",
   "metadata": {},
   "outputs": [],
   "source": [
    "b1.issubset(c1)"
   ]
  },
  {
   "cell_type": "code",
   "execution_count": null,
   "id": "19e99620-7930-4e5f-89d8-60da600fcc6f",
   "metadata": {},
   "outputs": [],
   "source": [
    "b1.isdisjoint(c1)"
   ]
  },
  {
   "cell_type": "code",
   "execution_count": null,
   "id": "4bf0caa7-cf6b-49ea-8f33-bc5abb13f808",
   "metadata": {},
   "outputs": [],
   "source": [
    "a1.isdisjoint(b1)"
   ]
  },
  {
   "cell_type": "code",
   "execution_count": null,
   "id": "8c66d85f-436e-4eda-8dd5-cfb1028ebade",
   "metadata": {},
   "outputs": [],
   "source": [
    "a1.issubset(b1)"
   ]
  },
  {
   "cell_type": "code",
   "execution_count": null,
   "id": "1db5dcae-2045-4054-a7e0-6f3e34f4339d",
   "metadata": {},
   "outputs": [],
   "source": [
    "a1"
   ]
  },
  {
   "cell_type": "code",
   "execution_count": null,
   "id": "2266b3a1-3a06-4446-955b-e53d27d511d5",
   "metadata": {},
   "outputs": [],
   "source": [
    "sum(a1)"
   ]
  },
  {
   "cell_type": "code",
   "execution_count": null,
   "id": "baa9b7b5-040f-42cf-9162-f818734a45a2",
   "metadata": {},
   "outputs": [],
   "source": [
    "max(a1)"
   ]
  },
  {
   "cell_type": "code",
   "execution_count": null,
   "id": "779dfae7-b49c-464b-b8bb-8cdce86b6302",
   "metadata": {},
   "outputs": [],
   "source": [
    "min(a1)"
   ]
  },
  {
   "cell_type": "code",
   "execution_count": null,
   "id": "098cc61b-d252-4f99-abd5-cb529ef8631a",
   "metadata": {},
   "outputs": [],
   "source": [
    "list(enumerate(a1))"
   ]
  },
  {
   "cell_type": "code",
   "execution_count": null,
   "id": "0da2e7b6-7f02-43ac-bfa1-5f52e9671dab",
   "metadata": {},
   "outputs": [],
   "source": [
    "for i in enumerate(a1):\n",
    "    print(a1)\n",
    "    print(i)"
   ]
  },
  {
   "cell_type": "markdown",
   "id": "df139367-2f63-4e35-8c6b-ca409c52ee48",
   "metadata": {},
   "source": [
    "# dictionary"
   ]
  },
  {
   "cell_type": "markdown",
   "id": "4409f8de-6424-4d8b-91ee-fb6750bcd7a2",
   "metadata": {},
   "source": [
    "# create a dictionary using variable"
   ]
  },
  {
   "cell_type": "code",
   "execution_count": null,
   "id": "79b544d6-9e57-47d3-87d1-44e0acfb8575",
   "metadata": {},
   "outputs": [],
   "source": [
    "dic={'ali':0.8,'yosuf':5.4,'zakriya':10.7}\n",
    "dic\n",
    "print(dic)\n",
    "type(dic)\n",
    "dic?"
   ]
  },
  {
   "cell_type": "code",
   "execution_count": null,
   "id": "4731bcf5-3209-4246-b1ca-f2d61de1ac10",
   "metadata": {},
   "outputs": [],
   "source": [
    "dic['ahmed']=10.4\n",
    "dic['zainab']=6.3\n",
    "dic.get(2)\n",
    "dic[:]"
   ]
  },
  {
   "cell_type": "code",
   "execution_count": null,
   "id": "e8fd0984-f41b-4d0c-ae08-56c8ec73cd6e",
   "metadata": {},
   "outputs": [],
   "source": [
    "dic.keys()"
   ]
  },
  {
   "cell_type": "code",
   "execution_count": null,
   "id": "d9b37095-834a-49c9-9a05-ed49b8bae8d1",
   "metadata": {},
   "outputs": [],
   "source": [
    "dic.values()"
   ]
  },
  {
   "cell_type": "markdown",
   "id": "ad3c4d46-0eab-473b-be48-e470704caee1",
   "metadata": {},
   "source": [
    "# operations"
   ]
  },
  {
   "cell_type": "code",
   "execution_count": null,
   "id": "ac159c4f-1fdf-4f57-a536-82f36fce942e",
   "metadata": {},
   "outputs": [],
   "source": [
    "dic.pop('ali')"
   ]
  },
  {
   "cell_type": "code",
   "execution_count": null,
   "id": "b5a5da14-4153-4ef7-8a62-72a6a79d611e",
   "metadata": {},
   "outputs": [],
   "source": [
    "dic.popitem()"
   ]
  },
  {
   "cell_type": "code",
   "execution_count": null,
   "id": "bdfc182a-efc1-49d8-83a5-f534801b7c7a",
   "metadata": {},
   "outputs": [],
   "source": [
    "dic.popitem()"
   ]
  },
  {
   "cell_type": "code",
   "execution_count": null,
   "id": "2d0c8ed1-2fbd-499a-b5fd-4de9ee490cbc",
   "metadata": {},
   "outputs": [],
   "source": [
    "dic1=dic.copy()"
   ]
  },
  {
   "cell_type": "code",
   "execution_count": null,
   "id": "2a54c63e-b535-49bc-8cd3-6f9eb9cdb567",
   "metadata": {},
   "outputs": [],
   "source": [
    "dic1"
   ]
  },
  {
   "cell_type": "code",
   "execution_count": null,
   "id": "d5e144ea-e0cd-4d32-8585-88f6343b7b25",
   "metadata": {},
   "outputs": [],
   "source": [
    "dic1['zaid']=3.8"
   ]
  },
  {
   "cell_type": "code",
   "execution_count": null,
   "id": "615c3a69-37bc-4179-9211-2435d5d7462b",
   "metadata": {},
   "outputs": [],
   "source": [
    "dic1['arif']=23"
   ]
  },
  {
   "cell_type": "code",
   "execution_count": null,
   "id": "d39d8109-300d-47fb-923b-31ab8599ecc5",
   "metadata": {},
   "outputs": [],
   "source": [
    "dic1"
   ]
  },
  {
   "cell_type": "code",
   "execution_count": null,
   "id": "7cba47a1-39bd-460e-aadd-84bfc8bdfd14",
   "metadata": {},
   "outputs": [],
   "source": [
    "dic1.pop('arif')"
   ]
  },
  {
   "cell_type": "raw",
   "id": "3b70c276-912c-4cde-865f-19937240ffc1",
   "metadata": {},
   "source": [
    "dic=['aniq']=22\n",
    "dic"
   ]
  },
  {
   "cell_type": "code",
   "execution_count": null,
   "id": "b6c4b1c7-11aa-494f-bcad-cb346a60c2d6",
   "metadata": {},
   "outputs": [],
   "source": [
    "dic.pop('aniq')"
   ]
  },
  {
   "cell_type": "code",
   "execution_count": null,
   "id": "b76236ef-591c-4cdb-9f88-1beedcdba219",
   "metadata": {},
   "outputs": [],
   "source": [
    "len(dic1)"
   ]
  },
  {
   "cell_type": "code",
   "execution_count": null,
   "id": "d8530b90-6b94-4355-a567-3862070bbe5e",
   "metadata": {},
   "outputs": [],
   "source": []
  }
 ],
 "metadata": {
  "kernelspec": {
   "display_name": "Python 3 (ipykernel)",
   "language": "python",
   "name": "python3"
  },
  "language_info": {
   "codemirror_mode": {
    "name": "ipython",
    "version": 3
   },
   "file_extension": ".py",
   "mimetype": "text/x-python",
   "name": "python",
   "nbconvert_exporter": "python",
   "pygments_lexer": "ipython3",
   "version": "3.11.5"
  },
  "widgets": {
   "application/vnd.jupyter.widget-state+json": {
    "state": {},
    "version_major": 2,
    "version_minor": 0
   }
  }
 },
 "nbformat": 4,
 "nbformat_minor": 5
}
